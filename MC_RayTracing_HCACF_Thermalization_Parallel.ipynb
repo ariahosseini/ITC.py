{
  "nbformat": 4,
  "nbformat_minor": 0,
  "metadata": {
    "colab": {
      "provenance": [],
      "collapsed_sections": [
        "AKInltUh4Ru6",
        "zw1gV-k8641h",
        "O4yKa0wpktsR",
        "Jv4kMtXQ2an1",
        "1aXbMMFdTaEa",
        "kjDpScFNTsd8",
        "39ORt0yTs3Az",
        "8RJJ9bBwtAbo",
        "3A1HlmGctG4w",
        "qpj40EhA65G8",
        "U2Hda3I17P-f",
        "yEDQhLbOZUCx",
        "bQy1eWQbk-7m",
        "Pu6Yrej3zLa0",
        "9VccHWlyUypQ",
        "6ZMbcrsYUl7I"
      ],
      "include_colab_link": true
    },
    "kernelspec": {
      "name": "python3",
      "display_name": "Python 3"
    },
    "language_info": {
      "name": "python"
    }
  },
  "cells": [
    {
      "cell_type": "markdown",
      "metadata": {
        "id": "view-in-github",
        "colab_type": "text"
      },
      "source": [
        "<a href=\"https://colab.research.google.com/github/ariahosseini/InterfacePhononsToolkit/blob/master/MC_RayTracing_HCACF_Thermalization_Parallel.ipynb\" target=\"_parent\"><img src=\"https://colab.research.google.com/assets/colab-badge.svg\" alt=\"Open In Colab\"/></a>"
      ]
    },
    {
      "cell_type": "markdown",
      "metadata": {
        "id": "ZMAjZcgZ6ziv"
      },
      "source": [
        "#**Ray tracing code**\n",
        "---\n",
        "A collection of functions used in the variouse photon and phonon ray tracing models\n"
      ]
    },
    {
      "cell_type": "markdown",
      "source": [
        "# Setup"
      ],
      "metadata": {
        "id": "AKInltUh4Ru6"
      }
    },
    {
      "cell_type": "markdown",
      "metadata": {
        "id": "zw1gV-k8641h"
      },
      "source": [
        "## Modules"
      ]
    },
    {
      "cell_type": "code",
      "metadata": {
        "id": "Ykxg9eNR66im"
      },
      "source": [
        "import matplotlib.pyplot as plt\n",
        "from mpl_toolkits.mplot3d import Axes3D\n",
        "import numpy as np\n",
        "from scipy import integrate"
      ],
      "execution_count": null,
      "outputs": []
    },
    {
      "cell_type": "markdown",
      "metadata": {
        "id": "O4yKa0wpktsR"
      },
      "source": [
        "## Plotting Functions"
      ]
    },
    {
      "cell_type": "code",
      "metadata": {
        "id": "2Dfz4x8WkxXG"
      },
      "source": [
        "# Define plotting functions\n",
        "\n",
        "plt.rc(\"font\", size = 18, family = 'sans-serif')\n",
        "plt.rcParams[\"figure.figsize\"] = (6, 5)\n",
        "plt.rcParams['animation.html'] = 'html5'\n",
        "\n",
        "def quickplot(x,y,xlab=\"x\", ylab=\"y\", plotlab=\"\", plotstyle='-o', alpha=1,\n",
        "              savefile=False, filename=\"plot.png\",errorbar= False, yerrors=[], **kwargs):\n",
        "    \"\"\"\n",
        "       Display a formatted plot of a single set of data\n",
        "\n",
        "       input: x = x values\n",
        "              y = y values\n",
        "              e = uncertainty values\n",
        "    \"\"\"\n",
        "    fig = plt.figure()\n",
        "    ax = fig.add_subplot(111)\n",
        "    ax.plot(x,y,plotstyle,alpha=alpha)\n",
        "    ax.set(title=plotlab,xlabel=xlab, ylabel=ylab)\n",
        "    # for key in kwargs:\n",
        "    #     print(key)\n",
        "    #     print(kwargs[key])\n",
        "    #     ax.set(kwargs)\n",
        "    if errorbar:\n",
        "        plt.errorbar(x, y, yerr=yerrors, elinewidth=None, capsize=None)\n",
        "    if savefile:\n",
        "        fig.savefig(filename,bbox_inches='tight',dpi=300)\n",
        "    plt.rcParams['figure.dpi'] = 100\n",
        "    plt.show()\n",
        "\n",
        "\n",
        "def quickploterr(x,y,e,col='',xlab=\"x\",ylab=\"y\",plotlab=\"\",alpha=0.3,**kwargs):\n",
        "    \"\"\"\n",
        "       Display a formatted error bar plot of a single set of data\n",
        "\n",
        "       input: x = x values\n",
        "              y = y values\n",
        "              e = uncertainty values\n",
        "    \"\"\"\n",
        "    fig = plt.figure()\n",
        "    ax = fig.add_subplot(111)\n",
        "    ax.plot(x,y,'-'+col)\n",
        "    ax.fill_between(x,y-e,y+e,alpha=alpha)\n",
        "    ax.set(title=plotlab,xlabel=xlab, ylabel=ylab)\n",
        "\n",
        "    #plt.savefig('test.pdf')\n",
        "    plt.rcParams['figure.dpi'] = 100\n",
        "    plt.show()\n",
        "\n",
        "\n",
        "def quickmultiplot(data, xlab=\"x\", ylab=\"y\", plotlab=\"\", plotstyle=[\"-\"], legends=[], alpha=1,\n",
        "                   savefile=False, filename=\"plot.png\", errorbar= False, yerrors=[],**kwargs):\n",
        "    \"\"\"\n",
        "       Display a formatted plot of multiple sets of data\n",
        "\n",
        "       input: data = List of data sets for plotting with each data set composed\n",
        "                     of 2 equal length vectors containing the x and y data\n",
        "    \"\"\"\n",
        "    fig = plt.figure()\n",
        "    ax = fig.add_subplot(111)\n",
        "    #plotstyle = ['-','o-']\n",
        "    i = 0\n",
        "    for x,y in data:\n",
        "        if len(plotstyle)==1:\n",
        "          ax.plot(x,y,plotstyle[0],alpha=alpha)\n",
        "        else:\n",
        "          if len(legends)>0:\n",
        "            print('add legends')\n",
        "            ax.plot(x,y,plotstyle[i],alpha=alpha[i],label=legends[i])\n",
        "          else:\n",
        "            ax.plot(x,y,plotstyle[i],alpha=alpha)\n",
        "        ax.set(title=plotlab,xlabel=xlab, ylabel=ylab)\n",
        "        if errorbar:\n",
        "          plt.errorbar(x, y, yerr=yerrors, elinewidth=None, capsize=None)\n",
        "        i+=1\n",
        "\n",
        "    if len(legends)>0:\n",
        "        plt.legend()\n",
        "    if savefile:\n",
        "        fig.savefig(filename,bbox_inches='tight',dpi=300)\n",
        "    plt.rcParams['figure.dpi'] = 100\n",
        "    plt.show()\n",
        "\n",
        "\n",
        "def quickmultierrplot(data,xlab=\"x\",ylab=\"y\",plotlab=\"\",plotstyle=\"-\",alpha=0.3,**kwargs):\n",
        "    \"\"\"\n",
        "       Display a formatted error bar plot of multiple sets of data\n",
        "\n",
        "       input: data = List of data sets for plotting with each data set composed\n",
        "                     of 3 equal length vectors containing the x, y and uncertainty data\n",
        "    \"\"\"\n",
        "    fig = plt.figure()\n",
        "    ax = fig.add_subplot(111)\n",
        "    for x,y,e in data:\n",
        "        ax.plot(x,y,plotstyle)\n",
        "        ax.fill_between(x,y-e,y+e,alpha=alpha)\n",
        "        ax.set(title=plotlab,xlabel=xlab, ylabel=ylab)\n",
        "    plt.rcParams['figure.dpi'] = 100\n",
        "    plt.show()\n",
        "\n",
        "\n",
        "def quickGPplot(train,true,fit,xlab=\"x\", ylab=\"y\",plt_title=None,savefile=False,filename=\"plot.png\", **kwargs):\n",
        "    fig = plt.figure()\n",
        "    ax = fig.add_subplot(111)\n",
        "    ax.plot(true[0][:,0],true[1][:,0], 'k-')\n",
        "    ax.plot(train[0][:,0],train[1][:,0], 'ro')\n",
        "    ax.plot(fit[0][:,0],fit[1][:,0], '-')\n",
        "    ax.fill_between(fit[0][:,0], fit[1][:,0]+fit[2], fit[1][:,0]-fit[2],\n",
        "                     alpha=0.2)\n",
        "    ax.set(xlabel=xlab,ylabel=ylab,title=plt_title)\n",
        "    plt.rcParams['figure.dpi'] = 100\n",
        "    if savefile:\n",
        "        fig.savefig(filename,bbox_inches='tight',dpi=300)\n",
        "    plt.show()\n",
        "\n",
        "def quickGPplot_multicol(traine,trainf,true,fit,xlab=\"x\", ylab=\"y\",plt_title=None,savefile=False,filename=\"plot.png\", **kwargs):\n",
        "    fig = plt.figure()\n",
        "    ax = fig.add_subplot(111)\n",
        "    ax.plot(true[0][:,0],true[1][:,0], 'k-')\n",
        "    ax.plot(traine[0][:,0],traine[1][:,0], 'ro')\n",
        "    ax.plot(trainf[0][:,0],trainf[1][:,0], 'go')\n",
        "    ax.plot(fit[0][:,0],fit[1][:,0], '-')\n",
        "    ax.fill_between(fit[0][:,0], fit[1][:,0]+fit[2], fit[1][:,0]-fit[2],\n",
        "                     alpha=0.2)\n",
        "    ax.set(xlabel=xlab,ylabel=ylab,title=plt_title)\n",
        "    plt.rcParams['figure.dpi'] = 100\n",
        "    if savefile:\n",
        "        fig.savefig(filename,bbox_inches='tight',dpi=300)\n",
        "    plt.show()"
      ],
      "execution_count": null,
      "outputs": []
    },
    {
      "cell_type": "markdown",
      "metadata": {
        "id": "Zxf0J9w7CIix"
      },
      "source": [
        "Define functions for looking at the distribution of data"
      ]
    },
    {
      "cell_type": "code",
      "metadata": {
        "id": "zktU9-_AkIHy"
      },
      "source": [
        "def Plot_Data_Distribution(data):\n",
        "    # make a probability distribution function of the data\n",
        "    from scipy.stats.kde import gaussian_kde\n",
        "    from numpy import linspace\n",
        "    # this create the kernel, given an array it will estimate the probability over that values\n",
        "    kde = gaussian_kde(data)\n",
        "    # these are the values over wich your kernel will be evaluated\n",
        "    dist_space = linspace(min(data), max(data), 100)\n",
        "    # plot the results\n",
        "    quickplot(dist_space,kde(dist_space),xlab=\"Data value\",ylab=\"Probability\",plotstyle='-')\n",
        "\n",
        "def Plot_Data_M_Distribution(datamatrix):\n",
        "    # make a probability distribution function of the data\n",
        "    from scipy.stats.kde import gaussian_kde\n",
        "    from numpy import linspace\n",
        "    # this create the kernel, given an array it will estimate the probability over that values\n",
        "    plotdata = []\n",
        "    for data in np.transpose(datamatrix):\n",
        "        dist_space = linspace(min(data), max(data), 100)\n",
        "        kde = gaussian_kde(data)\n",
        "        plotdata.append([dist_space,kde(dist_space)])\n",
        "    quickmultiplot(plotdata,xlab=\"Data value\",ylab=\"Probability\",plotstyle='-')\n"
      ],
      "execution_count": null,
      "outputs": []
    },
    {
      "cell_type": "markdown",
      "metadata": {
        "id": "Jv4kMtXQ2an1"
      },
      "source": [
        "# System parameters"
      ]
    },
    {
      "cell_type": "markdown",
      "metadata": {
        "id": "FcniT6vPBMV2"
      },
      "source": [
        "Define the propabilities of each outcome when a ray hits a wall. There are three properties assosiated with a wall:\n",
        "\n",
        "\n",
        "*   The probability of transmission\n",
        "    p_abs   = 0.8  # Probability that a ray is absorbed by a wall if it is not transmitted\n",
        "*   The Specularity: the probability that if the ray is reflected it does so speculalrly"
      ]
    },
    {
      "cell_type": "code",
      "source": [
        "d = {'a':1, 'b':2}\n",
        "for key,val in d.items():\n",
        "    exec(key + '=val')\n",
        "print(b)\n",
        "\n",
        "\n",
        "def apply_dict(varialble_dict):\n",
        "    from types import SimpleNamespace\n",
        "    n = SimpleNamespace(**varialble_dict)\n",
        "    print(n.f)\n",
        "    print(locals())\n",
        "    #for key,val in varialble_dict.items():\n",
        "    #    exec(key + '=val')\n",
        "    #globals().update(varialble_dict)\n",
        "\n",
        "    for key,val in varialble_dict.items(): exec(key + '=val')\n",
        "    #for key,val in varialble_dict.items(): eval(key + '=val')\n",
        "    #locals().update(varialble_dict)\n",
        "    print(locals())\n",
        "    a = 5\n",
        "    print(locals())\n",
        "    print(a)\n",
        "    print(locals()['a'])\n",
        "    print(locals()['f'])\n",
        "    #print(locals.f)\n",
        "\n",
        "p = {'c':1, 'f':17}\n",
        "apply_dict(p)\n",
        "print(p)\n",
        "#print(c)\n"
      ],
      "metadata": {
        "colab": {
          "base_uri": "https://localhost:8080/"
        },
        "id": "7jyIB1HWHaX2",
        "outputId": "50f51857-cdcf-4e70-bec7-9c683d0a5e45"
      },
      "execution_count": null,
      "outputs": [
        {
          "output_type": "stream",
          "name": "stdout",
          "text": [
            "2\n",
            "17\n",
            "{'varialble_dict': {'c': 1, 'f': 17}, 'SimpleNamespace': <class 'types.SimpleNamespace'>, 'n': namespace(c=1, f=17)}\n",
            "{'varialble_dict': {'c': 1, 'f': 17}, 'SimpleNamespace': <class 'types.SimpleNamespace'>, 'n': namespace(c=1, f=17), 'key': 'f', 'val': 17, 'c': 1, 'f': 17}\n",
            "{'varialble_dict': {'c': 1, 'f': 17}, 'SimpleNamespace': <class 'types.SimpleNamespace'>, 'n': namespace(c=1, f=17), 'key': 'f', 'val': 17, 'c': 1, 'f': 17, 'a': 5}\n",
            "5\n",
            "5\n",
            "17\n",
            "{'c': 1, 'f': 17}\n"
          ]
        }
      ]
    },
    {
      "cell_type": "code",
      "source": [
        "# Model parameters\n",
        "model_parameters = {# Material\n",
        "                    'tau00' :  1.0,       # mean lifetime\n",
        "                    'v_g'   : 10.0,       # Group velocity\n",
        "                    # Geometry\n",
        "                    'd'     : 10.000,     # x spacing between pores\n",
        "                    'L'     :  2.4,       # y spacing between pores\n",
        "                    'alpha' :  0.75,      # Pore diameter spacing ratio\n",
        "                    # Scattering behavior\n",
        "                    'thermalization_probability' : 0.005,  # Probability that phonons thermalize when hitting a pore\n",
        "                    'specularity_probability'    : 1.0}    # Probability that phonons scater specularly\n",
        "\n",
        "\n",
        "sim_parameters = {# Simulation parameters\n",
        "                  't_max'          : 20,       # maximum correlation time (as a factor of tau00) to compute the ACF out to\n",
        "                  'time_intervals' : 10001,    # time interfals\n",
        "                  'nBlocks'        : 40,\n",
        "                  'SamplesPerBlock': 500}\n",
        "\n",
        "\n",
        "def GetCumProbs(p_tran,spec,p_abs):\n",
        "    \"\"\"\n",
        "    Compute the list of cumulative probabilities from the tree wall properties\n",
        "\n",
        "    Input\n",
        "      p_tran  : Probability of transmission\n",
        "      spec    : Specularity: the probability that if the ray is reflected it does so speculalrly\n",
        "      p_abs   : Probability that a ray is absorbed by a wall if it is not transmitted\n",
        "\n",
        "    Output\n",
        "      cp_list : Cumulative probability list for transmission, absorbtion, specular\n",
        "                reflection and diffuse reflection\n",
        "    \"\"\"\n",
        "    p_absa  = (1.0-p_tran)*p_abs           # Absolute probability of absorbtion\n",
        "    p_rspec = (1.0-p_tran-p_absa)*(1-spec) # Absolute probability of specular reflection\n",
        "    p_rdiff = (1.0-p_tran-p_absa)*spec     # Absolute probability of diffuse reflection\n",
        "\n",
        "    p_list  = np.array([p_tran,p_absa,p_rspec,p_rdiff])\n",
        "    cp_list = np.add.accumulate([p_tran,p_absa,p_rspec,p_rdiff])\n",
        "    #print(p_list)\n",
        "    #print(cp_list)\n",
        "    return cp_list\n",
        "\n",
        "from types import SimpleNamespace\n",
        "\n",
        "def set_up_parameters(model_parameters, sim_parameters,\n",
        "                      pore_arrangment='aligned'):\n",
        "    \"\"\"\n",
        "    Compute the sets on input parameters used in the simulations from a dictionar. or model\n",
        "    parameters of list of cumulative probabilities from the tree wall properties\n",
        "    \"\"\"\n",
        "    #n = SimpleNamespace(**model_parameters)\n",
        "    #n.update(model_parameters)\n",
        "    # # Model parameters\n",
        "    # for key,val in model_parameters.items():\n",
        "    #     #print(key + '=val')\n",
        "    #     exec(key + '=val')\n",
        "    # # Simulation parameters\n",
        "    # for key,val in sim_parameters.items():\n",
        "    #     exec(key + '=val')\n",
        "    # locals().update(model_parameters)\n",
        "    # print(tau00)\n",
        "    # Model parameters\n",
        "    tau00 = model_parameters['tau00'] # Trunkation time for the ACF\n",
        "    v_g   = model_parameters['v_g']\n",
        "    d     = model_parameters['d']\n",
        "    L     = model_parameters['L']\n",
        "    alpha = model_parameters['alpha']\n",
        "    thermalization_probability = model_parameters['thermalization_probability']\n",
        "    specularity_probability    = model_parameters['specularity_probability']\n",
        "    print(v_g)\n",
        "    print(d)\n",
        "\n",
        "    # Simulation parameters\n",
        "    t_max           = sim_parameters['t_max']\n",
        "    time_intervals  = sim_parameters['time_intervals']\n",
        "    nBlocks         = sim_parameters['nBlocks']\n",
        "    SamplesPerBlock = sim_parameters['SamplesPerBlock']\n",
        "\n",
        "    # Dependent values\n",
        "    tau_max = tau00*t_max          # ACF trunkation length\n",
        "    r       = alpha*L*0.5          # pore radius\n",
        "    k_bulk  = tau00*(v_g**2)/3.0   # bulk thermalconductivity\n",
        "    mfp     = v_g*tau00            # Average mean free path\n",
        "    print(k_bulk)\n",
        "    #Define the pillar parameters and walls of the cell\n",
        "    co = np.array([0.0,0.0,0.0]) # Cone apex\n",
        "    cm = np.identity(3)          # Cone matrix\n",
        "    cm[2,2] = 0\n",
        "    pillar = [co,cm,r]\n",
        "    # Walls 0-3 are the cell walls, walls 5 is the cylindrical pore.\n",
        "    print(\"Pore arrangment:\",pore_arrangment)\n",
        "    if pore_arrangment=='aligned':\n",
        "        # For alligned pores: First vector is the inward wall normal,\n",
        "        # 2nd vector is the half the cell to cell translation vector it is used\n",
        "        # for computing the path\n",
        "        walls  = [[[-1.0,   0, 0],[ d/2.0,   0.0, 0.0]],  # right hand end\n",
        "                  [[   0,-1.0, 0],[   0.0, L/2.0, 0.0]],  # top\n",
        "                  [[ 1.0,   0, 0],[-d/2.0,   0.0, 0.0]],  # left\n",
        "                  [[   0, 1.0, 0],[   0.0,-L/2.0, 0.0]]]  # bottom\n",
        "    elif pore_arrangment=='staggered':\n",
        "        # For staggered pores\n",
        "        sf = 1/np.sqrt(L**2 + (d/2.0)**2)\n",
        "        walls  = [[[-L*sf, sf*d/2.0, 0],[ d/2.0,   0.0, 0.0]], # righthand end\n",
        "                  [[    0,     -1.0, 0],[ d/4.0, L/2.0, 0.0]], # top\n",
        "                  [[ L*sf,-sf*d/2.0, 0],[-d/2.0,   0.0, 0.0]], # left\n",
        "                  [[    0,      1.0, 0],[-d/4.0,-L/2.0, 0.0]]] # bottom\n",
        "    else:\n",
        "        raise RuntimeError(\"pore_arrangment \"+pore_arrangment+\" not defined\")\n",
        "    walls = np.array(walls)\n",
        "    # scattering probabilities\n",
        "    wall_transmission_prob_list = [1.0, 1.0, 1.0, 1.0, 0.0]\n",
        "    wall_absorbtion_prob_list   = [0.0, 0.0, 0.0, 0.0, thermalization_probability]\n",
        "    wall_specularity_list       = [0.0, 0.0, 0.0, 0.0, specularity_probability]\n",
        "    #cumulative_probabilities\n",
        "    cumulative_probabilities = []\n",
        "    for i in range(len(wall_specularity_list)):\n",
        "        p_tran = wall_transmission_prob_list[i]\n",
        "        p_abs   = wall_absorbtion_prob_list[i]\n",
        "        spec  = wall_specularity_list[i]\n",
        "        cumulative_probabilities.append(GetCumProbs(p_tran,spec,p_abs))\n",
        "    cumulative_probabilities = np.array(cumulative_probabilities)\n",
        "    #print(cumulative_probabilities)\n",
        "\n",
        "    inputs = {'walls':walls, 'pillar':pillar,\n",
        "              'cumulative_probabilities':cumulative_probabilities,\n",
        "              'r':r, 'mfp':mfp, 'v_g':v_g, 'tau00':tau00, 'tau_max':tau_max,\n",
        "              'k_bulk':k_bulk,'thermalization_probability':thermalization_probability,\n",
        "              'specularity_probability':specularity_probability,'d':d,'L':L,\n",
        "              'time_intervals':time_intervals, 'nBlocks':sim_parameters['nBlocks'],\n",
        "              'SamplesPerBlock':sim_parameters['SamplesPerBlock']}\n",
        "    return inputs\n",
        "\n",
        "inputs = set_up_parameters(model_parameters,sim_parameters)\n",
        "inputs_staggered = set_up_parameters(model_parameters,sim_parameters,pore_arrangment='staggered')\n",
        "print(inputs)"
      ],
      "metadata": {
        "colab": {
          "base_uri": "https://localhost:8080/"
        },
        "id": "xq0Iif3Fcz3O",
        "outputId": "e1fab398-9362-4e1b-8df6-9447ad10b679"
      },
      "execution_count": null,
      "outputs": [
        {
          "output_type": "stream",
          "name": "stdout",
          "text": [
            "10.0\n",
            "10.0\n",
            "33.333333333333336\n",
            "Pore arrangment: aligned\n",
            "10.0\n",
            "10.0\n",
            "33.333333333333336\n",
            "Pore arrangment: staggered\n",
            "{'walls': array([[[-1. ,  0. ,  0. ],\n",
            "        [ 5. ,  0. ,  0. ]],\n",
            "\n",
            "       [[ 0. , -1. ,  0. ],\n",
            "        [ 0. ,  1.2,  0. ]],\n",
            "\n",
            "       [[ 1. ,  0. ,  0. ],\n",
            "        [-5. ,  0. ,  0. ]],\n",
            "\n",
            "       [[ 0. ,  1. ,  0. ],\n",
            "        [ 0. , -1.2,  0. ]]]), 'pillar': [array([0., 0., 0.]), array([[1., 0., 0.],\n",
            "       [0., 1., 0.],\n",
            "       [0., 0., 0.]]), 0.8999999999999999], 'cumulative_probabilities': array([[1.   , 1.   , 1.   , 1.   ],\n",
            "       [1.   , 1.   , 1.   , 1.   ],\n",
            "       [1.   , 1.   , 1.   , 1.   ],\n",
            "       [1.   , 1.   , 1.   , 1.   ],\n",
            "       [0.   , 0.005, 0.005, 1.   ]]), 'r': 0.8999999999999999, 'mfp': 10.0, 'v_g': 10.0, 'tau00': 1.0, 'tau_max': 20.0, 'k_bulk': 33.333333333333336, 'thermalization_probability': 0.005, 'specularity_probability': 1.0, 'd': 10.0, 'L': 2.4, 'time_intervals': 10001, 'nBlocks': 40, 'SamplesPerBlock': 500}\n"
          ]
        }
      ]
    },
    {
      "cell_type": "markdown",
      "source": [
        "# Main simulation code"
      ],
      "metadata": {
        "id": "t6Aw2x3Q31h-"
      }
    },
    {
      "cell_type": "markdown",
      "metadata": {
        "id": "1aXbMMFdTaEa"
      },
      "source": [
        "## Auxilliary functions"
      ]
    },
    {
      "cell_type": "markdown",
      "metadata": {
        "id": "Dx6iaol5rXl8"
      },
      "source": [
        "Define a function to pick a random direction"
      ]
    },
    {
      "cell_type": "code",
      "metadata": {
        "id": "G83IAw4Mt2-W"
      },
      "source": [
        "def RandomDirection():\n",
        "    \"\"\"\n",
        "       Generate a randomly oriented unit vector drawn from a uniform\n",
        "       distribution of the unit sphere\n",
        "\n",
        "       input:\n",
        "       out:   random vector (numpy array)\n",
        "    \"\"\"\n",
        "    theta = np.arccos(1 - (2*np.random.uniform(0, 1)))\n",
        "    phi = np.random.uniform(-np.pi, np.pi)\n",
        "    return np.array([np.sin(theta)*np.cos(phi),\n",
        "                     np.sin(theta)*np.sin(phi),\n",
        "                     np.cos(theta)])\n",
        "\n",
        "def RandomDirectionInHalfSpace(nvec):\n",
        "    \"\"\"\n",
        "       Generate a randomly oriented unit vector in the halfspace perpendicular\n",
        "       to the vector nv. This function is used to generate new diffusely\n",
        "       scattered ray directions from sccattering from a surface with normal\n",
        "       veror nvec\n",
        "\n",
        "       input:\n",
        "              nvec : unit vector (numpy array)\n",
        "       out:\n",
        "              rdir : random vector (numpy array)\n",
        "    \"\"\"\n",
        "    theta = np.arccos(1 - (2*np.random.uniform(0, 1)))\n",
        "    phi = np.random.uniform(-np.pi, np.pi)\n",
        "    rdir = np.array([np.sin(theta)*np.cos(phi),\n",
        "                     np.sin(theta)*np.sin(phi),\n",
        "                     np.cos(theta)])\n",
        "    # Reflect the component of the random vector that is pointing out of the\n",
        "    # halfspace\n",
        "    normalcomp = np.dot(rdir,nvec)\n",
        "    rdir += (np.abs(normalcomp)-normalcomp)*np.array(nvec)\n",
        "    return rdir\n"
      ],
      "execution_count": null,
      "outputs": []
    },
    {
      "cell_type": "markdown",
      "metadata": {
        "id": "kjDpScFNTsd8"
      },
      "source": [
        "### Functions for finding wall intercepts"
      ]
    },
    {
      "cell_type": "markdown",
      "metadata": {
        "id": "WPrgR0vsrvpd"
      },
      "source": [
        "Define a finction to determine the distances to the walls of a cell"
      ]
    },
    {
      "cell_type": "code",
      "metadata": {
        "id": "qj2FhgDot3Sr"
      },
      "source": [
        "WallDistance = lambda p, nv, wp, wn : np.dot(wp-p,wn)/np.dot(nv,wn)\n",
        "SmallestPositiveValue = lambda l : min([i for i in l if i > 0])\n",
        "IndexOfSmallestPositiveValue = lambda l,epsilon : l.index(min([i for i in l if i - epsilon > 0 ]))"
      ],
      "execution_count": null,
      "outputs": []
    },
    {
      "cell_type": "markdown",
      "metadata": {
        "id": "YCjNsjkwrd5L"
      },
      "source": [
        "Define a function to determine if a ray hits a pillar, and if the distance it has to travel to do so."
      ]
    },
    {
      "cell_type": "code",
      "metadata": {
        "id": "bbKGgp7y6wzC"
      },
      "source": [
        "#WallDistance = lambda p, nv, wp, wn : np.dot(wp-p,wn)/np.dot(nv,wn)\n",
        "#SmallestPositiveValue = lambda l : min([i for i in l if i > 0])\n",
        "#IndexOfSmallestPositiveValue = lambda l : l.index(min([i for i in l if i > 0]))\n",
        "\n",
        "def DistanceToPillar(q,direct,pillar):\n",
        "    \"\"\"\n",
        "       Follow a ray in a cell starting from point p traveling in direction nv\n",
        "       untill it eaither exits the cell or hits an object (the pillar) within\n",
        "       the cell.\n",
        "\n",
        "       input:\n",
        "              q         : ray starting position\n",
        "              direct    : ray direction\n",
        "              pillar    : parameters needed to describe the pillar\n",
        "       out:\n",
        "              distance  : Shortest positive distance slong ray to the pillar,\n",
        "                          or -1 if the distance is negative, or the ray misses\n",
        "                          the pillar\n",
        "    \"\"\"\n",
        "\n",
        "    unit = direct/np.linalg.norm(direct)\n",
        "    [c,M,r] = pillar\n",
        "\n",
        "\n",
        "    Chi_prime = q - c # vector to the pillar from the ray start point\n",
        "\n",
        "    # Terms in the quadratic equation\n",
        "    A = np.matmul(unit,np.matmul(M,unit))\n",
        "    B = np.matmul(Chi_prime,np.matmul(M,unit))+np.matmul(unit,np.matmul(M,Chi_prime))\n",
        "    C = np.matmul(Chi_prime,np.matmul(M,Chi_prime)) - r**2\n",
        "\n",
        "    # Test if ray hits pillar\n",
        "    Delta = B**2 - 4*A*C\n",
        "    if Delta < 0:\n",
        "        return -1.0 # Ray misses the pillar\n",
        "    else:\n",
        "        distance = [(-B + np.sqrt(Delta))/(2*A),\n",
        "                    (-B - np.sqrt(Delta))/(2*A)]\n",
        "        #print(distance)\n",
        "        if max(distance) <= 0:\n",
        "            return -1.0 # Ray has allready passed the pillar\n",
        "        #elif max(distance) == 0:\n",
        "          #  return 1.0\n",
        "        else:\n",
        "            return SmallestPositiveValue(distance) # Hits the pillar"
      ],
      "execution_count": null,
      "outputs": []
    },
    {
      "cell_type": "markdown",
      "source": [
        "## Path through a cell"
      ],
      "metadata": {
        "id": "39ORt0yTs3Az"
      }
    },
    {
      "cell_type": "markdown",
      "source": [
        "Define a function that folows the flight of a phonon in a cell untill it hits the walls hits the pillar or is absorbed"
      ],
      "metadata": {
        "id": "ggOttc8Mzhvf"
      }
    },
    {
      "cell_type": "code",
      "metadata": {
        "id": "L9Ny1GyjzrYy",
        "colab": {
          "base_uri": "https://localhost:8080/"
        },
        "outputId": "15db7554-283f-4990-bf2a-8fb4270fdc17"
      },
      "source": [
        "# def WallDistance(p,nv,wp,wn):\n",
        "#     print('p:',p)\n",
        "#     print('nv:',nv)\n",
        "#     print('wn:',wn)\n",
        "#     print('wp:',wp)\n",
        "#     print('np.dot(wp-p,wn):',np.dot(wp-p,wn))\n",
        "#     print('np.dot(nv,wn):',np.dot(nv,wn))\n",
        "#     return np.dot(wp-p,wn)/np.dot(nv,wn)\n",
        "\n",
        "def PathInCell(p,nv,walls,pillar,verbose=False):\n",
        "    \"\"\"\n",
        "       Follow a ray in a cell starting from point p traveling in direction nv\n",
        "       untill it eaither exits the cell or hits an object (the pillar) within\n",
        "       the cell, or is absorbed into the phonon bath.\n",
        "\n",
        "       input:\n",
        "              p         : starting position\n",
        "              nv        : ray direction\n",
        "              walls     : list of pairs of normal vector and reference positions\n",
        "                          used to define each of the walls that bound the cell\n",
        "              pillar    : parameters needed to describe the pillar\n",
        "       out:\n",
        "              pn        : New position after flight in cell\n",
        "              wallindex : random vector (numpy array)\n",
        "    \"\"\"\n",
        "\n",
        "    # Find the distance along the ray to all the walls\n",
        "    hit_dist = [WallDistance(p,nv,wp,wn) for wn,wp in walls]\n",
        "    #print(p,nv)\n",
        "    # Determine if the ray hits the pillar and append the distance to the\n",
        "    # pillar to the list of wall distances\n",
        "    dist = DistanceToPillar(p,nv,pillar)\n",
        "    hit_dist.append(dist)\n",
        "    epsilon = 1e-10\n",
        "    # Find the shortest positive distance to hit something --\n",
        "    # and then retrun the index of the wall this corresponds to.\n",
        "    wallindex = IndexOfSmallestPositiveValue(hit_dist,epsilon)\n",
        "    if verbose: print(\"\\nRay hits Wall \"+ str(int(wallindex)))\n",
        "    # Determine the position that that the ray strikes the wall\n",
        "    pn = p + hit_dist[wallindex]*nv\n",
        "\n",
        "    return pn, hit_dist[wallindex], wallindex\n",
        "\n",
        "# Test\n",
        "\n",
        "#p  = RandomPositionInBox()\n",
        "p = np.array([model_parameters['d'],0.01,0])*0.25 # For debugging\n",
        "#nv = RandomDirectionInHalfSpace(np.array([0,0,-1]))\n",
        "nv = np.array([-1,0.01,0]) # For debugging\n",
        "print(p)\n",
        "print(nv)\n",
        "#print(PathInCell(p,nv,inputs['walls'],inputs['pillar']))\n",
        "print(PathInCell(p,nv,inputs_staggered['walls'],inputs['pillar']))"
      ],
      "execution_count": null,
      "outputs": [
        {
          "output_type": "stream",
          "name": "stdout",
          "text": [
            "[2.5    0.0025 0.    ]\n",
            "[-1.    0.01  0.  ]\n",
            "(array([0.89972979, 0.0185027 , 0.        ]), 1.600270205594333, 4)\n"
          ]
        }
      ]
    },
    {
      "cell_type": "markdown",
      "source": [
        "Now the function to compute the ACF drom a single ray. Assume no extinction first, and les see if we can supper impose that on the HCACF Define a function that traces the trajectory of a ray through multiple cells and scattering events untill it is absorbed or lost through the top of the box.\n",
        "Each time a ray hits a wall it can do one of four things:\n",
        "\n",
        "1.   Stop (be adsorbed, or lost)\n",
        "2.   Pass through unhindered\n",
        "3.   Scatter diffusely\n",
        "4.   Scatter speculalrly\n",
        "\n",
        "There is s probability for each"
      ],
      "metadata": {
        "id": "UdKEx1Hz7pUo"
      }
    },
    {
      "cell_type": "markdown",
      "source": [
        "## Scattering functions"
      ],
      "metadata": {
        "id": "8RJJ9bBwtAbo"
      }
    },
    {
      "cell_type": "code",
      "metadata": {
        "id": "KlGxPaSm8DmR"
      },
      "source": [
        "def Transmit(nv):\n",
        "    \"\"\"\n",
        "       Return the new direction and position of the ray after it is transmitted\n",
        "       point that is transmitted\n",
        "    \"\"\"\n",
        "    return nv\n",
        "\n",
        "def Adsorb(nv):\n",
        "    \"\"\"\n",
        "       Return the new direction and position of the ray after it is transmitted\n",
        "       point that is transmitted\n",
        "    \"\"\"\n",
        "    return nv\n",
        "\n",
        "def Spec_reflect(nv,wallnormal):\n",
        "    \"\"\"\n",
        "       Return the new direction and position of the ray after it specularly\n",
        "       reflected at a boundary\n",
        "    \"\"\"\n",
        "    nnv = nv - 2*np.dot(wallnormal,nv)*wallnormal\n",
        "    #print(\"Spec: wall normal:\",wallnormal,\"nnv:\",nnv)\n",
        "    return nnv\n",
        "\n",
        "def Diff_reflect(nv,wallnormal):\n",
        "    \"\"\"\n",
        "       Return the new direction and position of the ray after it is diffusly\n",
        "       reflected at a boundary\n",
        "    \"\"\"\n",
        "    nnv = RandomDirectionInHalfSpace(wallnormal)\n",
        "    #print(\"Diff: wall normal:\",wallnormal,\"nnv:\",nnv)\n",
        "    return nnv\n",
        "\n",
        "def WallEvent(p,nv,wallnormal,cumulative_probabilities):\n",
        "    \"\"\"\n",
        "       Decide what happens at a wall: The ray can either be:\n",
        "        * Transmitted with its direction unchanged, but the ray point shifted\n",
        "        * Adsorbed with the ray tracing stopped\n",
        "        * Scattered specularly\n",
        "        * Scattered diffusely\n",
        "        Follow a ray through a sequesnce of cells and scattering events starting\n",
        "       from point p traveling in direction nv untill some stopping condition is\n",
        "       reached. Return the list of cell locations at which the ray changed\n",
        "       direction, and their corresponding wall index.\n",
        "\n",
        "       input:\n",
        "              po        : ray starting position\n",
        "              nvo       : ray direction\n",
        "              walls     : list of pairs of normal vector and reference positions\n",
        "                          used to define each of the walls that bound the cell\n",
        "              pillar    : parameters needed to describe the pillar\n",
        "       out:\n",
        "              plist     : List of positions where scattering occured\n",
        "              wallindex : coreesponding wallindex for these events\n",
        "    \"\"\"\n",
        "\n",
        "    dice = np.random.rand()\n",
        "    #print(dice)\n",
        "    event = 0\n",
        "    while dice > cumulative_probabilities[event]:\n",
        "      #print(dice)\n",
        "      #print(cumulative_probabilities[event])\n",
        "      #print(event)\n",
        "      event += 1\n",
        "    #print(event)\n",
        "\n",
        "    # Switch between cases:\n",
        "    #switcher = {\n",
        "        #0: Transmit(nv),                    # Event 0: transmission\n",
        "        #1: Adsorb(nv),                      # Event 1: absorbtion\n",
        "       # 2: Spec_reflect(nv,wallnormal),     # Event 2: specular reflection\n",
        "       # 3: Diff_reflect(nv,wallnormal),     # Event 3: diffuse reflection\n",
        "    #}\n",
        "    #nnv = switcher.get(event, \"nothing\")\n",
        "    if event == 0:\n",
        "        nnv = Transmit(nv)\n",
        "    elif event == 1:\n",
        "        nnv = Adsorb(nv)\n",
        "    elif event == 2:\n",
        "        nnv = Diff_reflect(nv,wallnormal)\n",
        "    else:\n",
        "        nnv = Spec_reflect(nv,wallnormal)\n",
        "    #print(\"Event:\",event,\"dice:\",dice,\"CP:\",cumulative_probabilities)\n",
        "    return event, nnv\n",
        "\n",
        "#print(p)\n",
        "#print(nv)\n",
        "#print(walls)\n",
        "#wallindex = 4\n",
        "#wallnormal = walls[wallindex][0]\n",
        "#probabilities = cumulative_probabilities[wallindex]\n",
        "\n",
        "#WallEvent(p,nv,wallnormal,probabilities)"
      ],
      "execution_count": null,
      "outputs": []
    },
    {
      "cell_type": "code",
      "source": [
        "def ACF_FFT(t_max, J):\n",
        "    # Compute the autocorrelation of the instantaniouse flux vector\n",
        "    nd = J.shape\n",
        "    time_intervals = nd[0]\n",
        "    c = np.zeros([time_intervals*2,3])\n",
        "    zpad = np.zeros(time_intervals)\n",
        "    sf = t_max/float(time_intervals)\n",
        "    for j in range(3):\n",
        "        dft  = np.fft.fft(np.concatenate((J[:,j],zpad)))\n",
        "        c[:,j] = np.real(np.fft.ifft(dft*np.conjugate(dft))*sf)\n",
        "    return c[:time_intervals]"
      ],
      "metadata": {
        "id": "NSDz9w8-8VAA"
      },
      "execution_count": null,
      "outputs": []
    },
    {
      "cell_type": "code",
      "source": [
        "normalize = lambda vector: vector/(np.linalg.norm(vector))\n",
        "\n",
        "def PillarNormalAtPoint(p,co,PitchAngle):\n",
        "    \"\"\"\n",
        "    Returns the normal direction on the surface of the cone at position p\n",
        "    \"\"\"\n",
        "    conevector = p - co\n",
        "    normcone = np.linalg.norm(conevector[0:2])\n",
        "    cone_z = normcone*np.tan(PitchAngle)\n",
        "    wallnormal = np.array([np.sin(np.pi/2 - PitchAngle)*(conevector[0]/normcone),\n",
        "                           np.sin(np.pi/2 - PitchAngle)*(conevector[1]/normcone),\n",
        "                           np.cos(np.pi/2 - PitchAngle)])\n",
        "    return wallnormal"
      ],
      "metadata": {
        "id": "0dT7iu1C8Z7j"
      },
      "execution_count": null,
      "outputs": []
    },
    {
      "cell_type": "markdown",
      "source": [
        "## Follow a ray to extinction"
      ],
      "metadata": {
        "id": "3A1HlmGctG4w"
      }
    },
    {
      "cell_type": "code",
      "metadata": {
        "id": "EOlXjRwm8hNu"
      },
      "source": [
        "def RayTrace(po,nvo,inps,max_dist,verbose=False):\n",
        "    \"\"\"\n",
        "       Follow a ray through a sequesnce of cells and scattering events starting\n",
        "       from point p traveling in direction nv untill some stopping condition is\n",
        "       reached. Return the list of cell locations at which the ray changed\n",
        "       direction, and their corresponding wall index.\n",
        "\n",
        "       input:\n",
        "              po        : ray starting position\n",
        "              nvo       : ray direction\n",
        "              walls     : list of pairs of normal vector and reference positions\n",
        "                          used to define each of the walls that bound the cell\n",
        "              pillar    : parameters needed to describe the pillar\n",
        "              max_dist  : The distance to follow the ray\n",
        "       out:\n",
        "              dir_list  : List of directions of travel on each leg of the journey\n",
        "              dist_list : List of distance of travel for each leg\n",
        "              pos_list  : List of positions where scattering occured\n",
        "              wallindex : corresponding wallindex for these events\n",
        "    \"\"\"\n",
        "    walls = inps['walls']\n",
        "    pillar = inps['pillar']\n",
        "    cumulative_probabilities = inps['cumulative_probabilities']\n",
        "    p,nv = po,nvo  # p is the initial starting point in the cell refference frame\n",
        "\n",
        "    nwalls = walls.shape[0]         # number of walls\n",
        "    #max_cells = 500                # Max number of itterations\n",
        "    step = 0\n",
        "    dist_to_go = max_dist\n",
        "    accum_shift = np.zeros(3)      # vector from starting point to current point\n",
        "                                   # as the crow flies\n",
        "    leg_dist = 0                   # Distance along the current leg\n",
        "\n",
        "    # Initialize path and event recording\n",
        "    pos_list, dir_list, dist_list = [p],[],[]\n",
        "\n",
        "    events = [[5,6]] # Event 5 (birth) at wall 6 (the top) Only record events\n",
        "                     # where the ray changes direction.\n",
        "\n",
        "    while True:\n",
        "        if verbose: print('Dir:',nv,'Wrapped pos:',p,'True pos:',p+accum_shift)\n",
        "        #print(step)\n",
        "        step += 1\n",
        "        # Flight leg\n",
        "        p_new, cell_dist, wallindex = PathInCell(p,nv,walls,pillar,verbose=verbose)\n",
        "\n",
        "        \"\"\"\n",
        "            Three outcomes:\n",
        "                1 the distance of travel exeeds the max_dist,\n",
        "                2 the ray hits a periodic bpoundary and is wrapped into the next\n",
        "                  cell, the direction of travel does not change\n",
        "                3 the ray hits a scattering boundary and gets a new\n",
        "                  direction and so starts on a new leg\n",
        "        \"\"\"\n",
        "\n",
        "        if cell_dist > dist_to_go: # Ray expires\n",
        "            p_new = p + dist_to_go*nv\n",
        "            leg_dist += dist_to_go\n",
        "            pos_list.append(p_new+accum_shift)\n",
        "            dir_list.append(nv)\n",
        "            dist_list.append(leg_dist)\n",
        "            wallindex = nwalls+1 # expires\n",
        "            pos_list = np.array(pos_list)\n",
        "            if verbose: quickplot(pos_list[:,0],pos_list[:,1])\n",
        "            return np.array(dir_list), np.array(dist_list), pos_list, np.array(wallindex)\n",
        "\n",
        "        dist_to_go -= cell_dist\n",
        "        leg_dist += cell_dist\n",
        "\n",
        "        if wallindex < nwalls:              # Periodic boundary: ray contiues\n",
        "            wallnormal = walls[wallindex,0]\n",
        "            cellshift  = -2*walls[wallindex,1]\n",
        "            p = p_new + cellshift\n",
        "            accum_shift -= cellshift\n",
        "            pos_list.append(p+accum_shift)\n",
        "            #path.append(p+accum_shift)\n",
        "        else:                               # Ray scatter to start a new leg\n",
        "            wallnormal = PillarNormalAtPoint(p_new,pillar[0],0)\n",
        "            cellshift  = np.zeros(3)\n",
        "            # Reccord\n",
        "            pos_list.append(p_new+accum_shift)\n",
        "            dir_list.append(nv)\n",
        "            dist_list.append(leg_dist)\n",
        "\n",
        "            # Find new dierction\n",
        "            probabilities = cumulative_probabilities[wallindex]\n",
        "            scatterindex,nv_new = WallEvent(p,nv,wallnormal,probabilities)\n",
        "            p        = p_new\n",
        "            nv       = nv_new\n",
        "            leg_dist = 0\n",
        "            if scatterindex == 1:\n",
        "                pos_list = np.array(pos_list)\n",
        "                if verbose: quickplot(pos_list[:,0],pos_list[:,1])\n",
        "                return np.array(dir_list), np.array(dist_list), pos_list, np.array(wallindex)"
      ],
      "execution_count": null,
      "outputs": []
    },
    {
      "cell_type": "markdown",
      "source": [
        "## Compute ACF"
      ],
      "metadata": {
        "id": "qpj40EhA65G8"
      }
    },
    {
      "cell_type": "code",
      "source": [
        "import scipy\n",
        "\n",
        "def Build_J_and_ACF(dir_list, dist_list, inputs, verbose=False):\n",
        "    \"\"\"\n",
        "        Construct the heat current vs time from the sequence of legs of the\n",
        "        phonon's journey and compute its ACF\n",
        "    \"\"\"\n",
        "    tau_max, time_intervals, v_g = inputs['tau_max'], inputs['time_intervals'], inputs['v_g']\n",
        "\n",
        "    dt = tau_max/float(time_intervals-1)\n",
        "    t, J = np.linspace(0,tau_max,time_intervals), np.zeros([time_intervals,3])\n",
        "\n",
        "    i1 = 0\n",
        "    for i in range(dist_list.size):\n",
        "        i0 = i1\n",
        "        i1 = i0 + int(dist_list[i]/(dt*v_g))\n",
        "        J[i0:i1,:] = np.matmul(v_g*np.ones([i1-i0,1]),dir_list[i].reshape([1,3]))\n",
        "\n",
        "    A = ACF_FFT(tau_max, J)\n",
        "    I = scipy.integrate.cumtrapz(A,t,axis=0,initial=0)\n",
        "    if verbose: quickmultiplot([[t,J[:,i]] for i in range(3)])\n",
        "    if verbose: quickmultiplot([[t,A[:,i]] for i in range(3)])\n",
        "    if verbose: quickmultiplot([[t,I[:,i]] for i in range(3)])\n",
        "\n",
        "    return t, J, A, I\n",
        "\n",
        "def Build_J_and_ACF_If_Thermalizing(dir_list, dist_list, inputs, verbose=False):\n",
        "    \"\"\"\n",
        "        Compute the sum of the analytic ACFs for each individual leg of the\n",
        "        phonon's journey\n",
        "    \"\"\"\n",
        "    tau_max, time_intervals, v_g = inputs['tau_max'], inputs['time_intervals'], inputs['v_g']\n",
        "\n",
        "    dt = tau_max/float(time_intervals-1)\n",
        "    t, A = np.linspace(0,tau_max,time_intervals), np.zeros([time_intervals,3])\n",
        "\n",
        "    for i in range(dist_list.size):\n",
        "        tau = dist_list[i]/v_g\n",
        "        n = int(tau/dt)\n",
        "        ramp = (v_g**2) * tau * (1.0 - np.arange(n)*dt/tau).reshape((n,1))\n",
        "        A[:n,:] += np.matmul(ramp,(dir_list[i]**2).reshape((1,3)))\n",
        "\n",
        "    I = scipy.integrate.cumtrapz(A,t,axis=0,initial=0)\n",
        "    if verbose: quickmultiplot([[t,A[:,i]] for i in range(3)])\n",
        "    if verbose: quickmultiplot([[t,I[:,i]] for i in range(3)])\n",
        "\n",
        "    return t, A, I\n",
        "\n",
        "#p = np.array([d,0.01,0])*0.25 # For debugging\n",
        "#nv = RandomDirectionInHalfSpace(np.array([0,0,-1]))\n",
        "#nv = normalize(np.array([-1,0.01,0])) # For debugging\n",
        "p = np.array([inputs['d'],inputs['L'],0])*0.45 # For debugging\n",
        "nv = normalize(np.array([-1,0.01,0])) # For debugging\n",
        "while True:\n",
        "    p = (np.random.rand(3)-0.5)*np.array([inputs['d'],inputs['L'],0])\n",
        "    if np.linalg.norm(p) > inputs['r']: break\n",
        "    print(\"In pore, generating new starting point\")\n",
        "nv = RandomDirectionInHalfSpace(np.array([0,0,1]))\n",
        "\n",
        "\n",
        "#print(p)\n",
        "#print(nv)\n",
        "\n",
        "# #print(PathInCell(p,nv,walls,pillar))\n",
        "#dir_list, dist_list, pos_list, wallindex = RayTrace(p,nv,inputs,100, verbose=False)\n",
        "dir_list, dist_list, pos_list, wallindex = RayTrace(p,nv,inputs_staggered,100, verbose=False)\n",
        "#quickplot(pos_list[:,0],pos_list[:,1])\n",
        "t, J, A, I = Build_J_and_ACF(dir_list, dist_list, inputs_staggered, verbose=True)\n",
        "t, A, I = Build_J_and_ACF_If_Thermalizing(dir_list, dist_list, inputs_staggered, verbose=True)"
      ],
      "metadata": {
        "colab": {
          "base_uri": "https://localhost:8080/"
        },
        "id": "x_qWoybR_EPf",
        "outputId": "b56da5cf-ae78-46ce-8627-07083b34fb47"
      },
      "execution_count": null,
      "outputs": [
        {
          "output_type": "display_data",
          "data": {
            "text/plain": [
              "<Figure size 600x500 with 1 Axes>"
            ],
            "image/png": "[encoded data removed]"
          },
          "metadata": {}
        },
        {
          "output_type": "display_data",
          "data": {
            "text/plain": [
              "<Figure size 600x500 with 1 Axes>"
            ],
            "image/png": "[encoded data removed]"
          },
          "metadata": {}
        },
        {
          "output_type": "display_data",
          "data": {
            "text/plain": [
              "<Figure size 600x500 with 1 Axes>"
            ],
            "image/png": "[encoded data removed]"
          },
          "metadata": {}
        },
        {
          "output_type": "display_data",
          "data": {
            "text/plain": [
              "<Figure size 600x500 with 1 Axes>"
            ],
            "image/png": "[encoded data removed]"
          },
          "metadata": {}
        },
        {
          "output_type": "display_data",
          "data": {
            "text/plain": [
              "<Figure size 600x500 with 1 Axes>"
            ],
            "image/png": "[encoded data removed]"
          },
          "metadata": {}
        }
      ]
    },
    {
      "cell_type": "markdown",
      "source": [
        "## Compute ACF from a single random phonon"
      ],
      "metadata": {
        "id": "U2Hda3I17P-f"
      }
    },
    {
      "cell_type": "markdown",
      "source": [
        "One function that generates a random ray for the initial parameters:"
      ],
      "metadata": {
        "id": "kPDxAm50L7Eg"
      }
    },
    {
      "cell_type": "code",
      "source": [
        "def RandomStartingPosition(latt_vec,r,verbose=False):\n",
        "    while True:\n",
        "        pd = (np.random.rand(3)-0.5); # Random position in direct coordinates)\n",
        "        p = np.matmul(latt_vec,pd)\n",
        "        if np.linalg.norm(p) > r:\n",
        "            return p\n",
        "\n",
        "def Test(inps):\n",
        "    walls = inps['walls']\n",
        "    latt_vec  = 2*np.array([walls[0,1],walls[1,1],[0,0,0]]).transpose() # lattice vectors (column wise)\n",
        "    r = inps['r']\n",
        "    print(r)\n",
        "    print(latt_vec)\n",
        "    p = np.array([RandomStartingPosition(latt_vec,r,verbose=False) for i in range(10000)])\n",
        "    quickplot(p[:,0],p[:,1],plotstyle='o')\n",
        "\n",
        "# Test(inputs)\n",
        "# Test(inputs_staggered)\n",
        "\n",
        "def GetRandomPhonon(inps,verbose=False):\n",
        "\n",
        "    # unpack parameters\n",
        "    walls, pillar = inps['walls'], inps['pillar']\n",
        "    tau00, v_g, tau_max = inps['tau00'],inps['v_g'], inps['tau_max']\n",
        "    d, L, r, k_bulk = inps['d'],inps['L'],inps['r'],inps['k_bulk']\n",
        "    # Matrix of lattice vectors (column wise)\n",
        "    latt_vec  = 2*np.array([walls[0,1],walls[1,1],[0,0,0]]).transpose()\n",
        "\n",
        "    # Random lifetime, start position and direction\n",
        "    tau = -tau00 * np.log(1 - np.random.random())\n",
        "    p = RandomStartingPosition(latt_vec,r,verbose=verbose)\n",
        "    nv = RandomDirectionInHalfSpace(np.array([0,0,1]))\n",
        "\n",
        "    # Follow the ray\n",
        "    dir_list, dist_list, pos_list, wallindex = RayTrace(p,nv,inps,v_g*tau,verbose=verbose)\n",
        "    # Compute the ACF and its integral\n",
        "    t, J, A, I = Build_J_and_ACF(dir_list, dist_list, inps,verbose=verbose)\n",
        "    t, Ath, Ith = Build_J_and_ACF_If_Thermalizing(dir_list, dist_list, inps,verbose=verbose)\n",
        "    return t, A, I, Ath, Ith\n",
        "\n",
        "# GetRandomPhonon(inputs,verbose=True)\n",
        "# GetRandomPhonon(inputs_staggered,verbose=True)\n"
      ],
      "metadata": {
        "id": "pd1lKZo0MFTu"
      },
      "execution_count": null,
      "outputs": []
    },
    {
      "cell_type": "markdown",
      "source": [
        "## Average over many phonons"
      ],
      "metadata": {
        "id": "l6muEuoq7dJR"
      }
    },
    {
      "cell_type": "code",
      "source": [
        "def averagePhonons(inps,verbose=False):\n",
        "\n",
        "    nBlocks, SamplesPerBlock = inps['nBlocks'], inps['SamplesPerBlock']\n",
        "    time_intervals, tau00 = inps['time_intervals'], inps['tau00']\n",
        "\n",
        "    # Average over nBlock of samplesPerBlock\n",
        "    ACF     = np.zeros([nBlocks, time_intervals,3])\n",
        "    ACFth   = np.zeros([nBlocks, time_intervals,3])\n",
        "    kappa   = np.zeros([nBlocks, time_intervals,3])\n",
        "    kappath = np.zeros([nBlocks, time_intervals,3])\n",
        "\n",
        "    for i in range(nBlocks):\n",
        "        #print(i)\n",
        "        for j in range(SamplesPerBlock):\n",
        "            #print((i,j))\n",
        "            t, A, I, Ath, Ith = GetRandomPhonon(inps,verbose=verbose)\n",
        "            ACF[i]     += A\n",
        "            ACFth[i]   += Ath\n",
        "            kappa[i]   += I\n",
        "            kappath[i] += Ith\n",
        "    ACF     /= tau00*float(SamplesPerBlock)\n",
        "    ACFth   /= tau00*float(SamplesPerBlock)\n",
        "    kappa   /= tau00*float(SamplesPerBlock)\n",
        "    kappath /= tau00*float(SamplesPerBlock)\n",
        "\n",
        "    ACFm   = ACF.mean(axis=0)\n",
        "    ACFe   = ACF.std(axis=0)/np.sqrt(float(nBlocks-1))\n",
        "    ACFmth = ACFth.mean(axis=0)\n",
        "    ACFeth = ACFth.std(axis=0)/np.sqrt(float(nBlocks-1))\n",
        "    km     = kappa.mean(axis=0)\n",
        "    ke     = kappa.std(axis=0)/np.sqrt(float(nBlocks-1))\n",
        "    kmth   = kappath.mean(axis=0)\n",
        "    keth   = kappath.std(axis=0)/np.sqrt(float(nBlocks-1))\n",
        "    return t, ACFm, ACFe, km, ke, ACFmth, ACFeth, kmth, keth\n",
        "\n",
        "\n",
        "# t, ACFm, ACFe, km, ke, ACFmth, ACFeth, kmth, keth = averagePhonons(inputs)\n",
        "# quickmultierrplot([[t,ACFm[:,i],ACFe[:,i]] for i in range(3)])\n",
        "# quickmultierrplot([[t,ACFmth[:,i],ACFeth[:,i]] for i in range(3)])\n",
        "# quickmultierrplot([[t,km[:,i],ke[:,i]] for i in range(3)])\n",
        "# quickmultierrplot([[t,kmth[:,i],keth[:,i]] for i in range(3)])\n",
        "\n",
        "# t, ACFm, ACFe, km, ke = averagePhonons(inputs_staggered)\n",
        "# quickmultierrplot([[t,ACFm[:,i],ACFe[:,i]] for i in range(3)])\n",
        "# quickmultierrplot([[t,km[:,i],ke[:,i]] for i in range(3)])"
      ],
      "metadata": {
        "id": "F_VtEhxC_CU8"
      },
      "execution_count": null,
      "outputs": []
    },
    {
      "cell_type": "markdown",
      "metadata": {
        "id": "yEDQhLbOZUCx"
      },
      "source": [
        "#Mount Google Drive"
      ]
    },
    {
      "cell_type": "markdown",
      "source": [
        "All the files that are read and written in this notebook are in the shared doodle directory here:\n",
        "https://drive.google.com/drive/folders/1OWkRaILxVrBJurf5K0wzlQvoOqtTKdBG?usp=sharing\n",
        "\n",
        "To be able to acceess this directory once you have mounted drive you need to make sure it is linked to your google drive. To do this follow the link and then under the drop down menu of actions for the folder select \"Add shortcut to Drive\"."
      ],
      "metadata": {
        "id": "BZWZnb1Rx6W9"
      }
    },
    {
      "cell_type": "code",
      "metadata": {
        "colab": {
          "base_uri": "https://localhost:8080/"
        },
        "id": "nWJIsB9_Z4vS",
        "outputId": "ddae0140-dfc6-4a54-d42b-b5a371687130"
      },
      "source": [
        "import fileinput\n",
        "from google.colab import drive\n",
        "drive.mount('/content/drive/')\n",
        "\n",
        "# Move to the shared working directory and list what is there\n",
        "%cd /content/drive/MyDrive/Structure-Characterzation-Development/MC-Ray-Trace\n",
        "!ls"
      ],
      "execution_count": null,
      "outputs": [
        {
          "output_type": "stream",
          "name": "stdout",
          "text": [
            "Mounted at /content/drive/\n",
            "/content/drive/MyDrive/Structure-Characterzation-Development/MC-Ray-Trace\n",
            "data-test.txt\t   s_slab_2-11.txt\t s_slab_2.txt\t\t      s_wire-3x3.txt\n",
            "kt_wire-21x21.txt  s_slab_2-31.txt\t s_slab.txt\t\t      s_wire-spec-11x11.txt\n",
            "k_wire-21x21.txt   s_slab_2_spec-11.txt  s_square_wire_3_spec-41.txt  s_wire.txt\n",
            "k_wire-3x3.txt\t   s_slab_2_spec-31.txt  s_wire-11x11.txt\t      Wire-21x21\n",
            "NewData\t\t   s_slab_2_spec.txt\t s_wire-21x21.txt\t      Wire-spec-41x41\n"
          ]
        }
      ]
    },
    {
      "cell_type": "markdown",
      "source": [
        "# Run simulation and save"
      ],
      "metadata": {
        "id": "u7qQmtTi8Vmp"
      }
    },
    {
      "cell_type": "code",
      "source": [
        "# def WriteDataFile(outfile, v_g, tau_0_0, d, tau_max, alphas, data, uncertainty):\n",
        "#     # Function to write a block of data as a big file\n",
        "#     paramkey = 'Paramters: v_g='+str(v_g)+' tau_0_0='+str(tau_0_0)+' d='+str(d)+' tau_max='+str(tau_max)+' Kn='+str(v_g*tau_0_0/d)+'\\n'\n",
        "#     headkey = (\"Time\",\"data[0]\",\"data[1]\",\"data[...]\",\"uncertainty[0]\",\"uncertainty[1]\",\"uncertainty[...]\")\n",
        "#     separator = ' '\n",
        "#     with open(outfile, 'w') as writer:\n",
        "#         writer.write(paramkey)\n",
        "#         writer.write('alphas:'+separator+separator.join(map(str, alphas))+\"\\n\")\n",
        "#         writer.write(separator.join(headkey)+\"\\n\")\n",
        "#         time = np.linspace(0.0, tau_max, time_intervals)\n",
        "#         for i in range(time_intervals):\n",
        "#             writer.write(str(time[i])+separator+separator.join(map(str,data[:,i]))+separator+separator.join(map(str,uncertainty[:,i]))+\"\\n\")\n",
        "\n",
        "def WriteDataFile(outfile, inps, data, uncertainty):\n",
        "    # Function to write a block of data as a big file\n",
        "    v_g, tau00, k_bulk = inps['v_g'], inps['tau00'], inps['k_bulk']\n",
        "    d, L, r  =  inps['d'], inps['L'], inps['r']\n",
        "    tau_max, alpha, Kn = inps['tau_max'], 2*r/L, v_g*tau00/d\n",
        "    SpecProb = inps['specularity_probability']\n",
        "    ThermProb = inps['thermalization_probability']\n",
        "    paramkey = 'Paramters: v_g='+str(v_g)+' tau00='+str(tau00)+' d='+str(d)+' L='+str(L)+' r='+str(r)+' SpecProb='+str(SpecProb)+' ThermProb='+str(ThermProb)+' alpha='+str(alpha)+' Kn='+str(Kn)+' tau_max='+str(tau_max)+' k_bulk='+str(k_bulk)+'\\n'\n",
        "    headkey = (\"Time\",\"data[0]\",\"data[1]\",\"data[...]\",\n",
        "               \"uncertainty[0]\",\"uncertainty[1]\",\"uncertainty[...]\")\n",
        "    separator = ' '\n",
        "    with open(outfile, 'w') as writer:\n",
        "        writer.write(paramkey)\n",
        "        writer.write(separator.join(headkey)+\"\\n\")\n",
        "        time_intervals = inps['time_intervals']\n",
        "        time = np.linspace(0.0, tau_max, time_intervals)\n",
        "        for i in range(time_intervals):\n",
        "            line=str(time[i])+separator+separator.join(map(str,data[i,:]))+separator+separator.join(map(str,uncertainty[i,:]))+\"\\n\"\n",
        "            writer.write(line)"
      ],
      "metadata": {
        "id": "fiYMft_Pfa4g"
      },
      "execution_count": null,
      "outputs": []
    },
    {
      "cell_type": "code",
      "source": [
        "# Model parameters\n",
        "model_parameters = {# Material\n",
        "                    'tau00' :  1.0,       # mean lifetime\n",
        "                    'v_g'   :  1.0,       # Group velocity\n",
        "                    # Geometry\n",
        "                    'd'     : 54.3,       # x spacing between pores\n",
        "                    'L'     : 13.03,      # y spacing between pores\n",
        "                    'alpha' : 0.8335,     # Pore diameter spacing ratio\n",
        "                    # Scattering behavior\n",
        "                    'thermalization_probability' : 0.0,    # Probability that phonons thermalize when hitting a pore\n",
        "                    'specularity_probability'    : 1.0}    # Probability that phonons scater specularly\n",
        "\n",
        "\n",
        "sim_parameters = {# Simulation parameters\n",
        "                  't_max'          : 20,       # maximum correlation time (as a factor of tau00) to compute the ACF out to\n",
        "                  'time_intervals' : 10001,    # time interfals\n",
        "                  'nBlocks'        : 40,\n",
        "                  'SamplesPerBlock': 500}\n"
      ],
      "metadata": {
        "id": "2Qph2Co88f_0"
      },
      "execution_count": null,
      "outputs": []
    },
    {
      "cell_type": "code",
      "source": [
        "import os\n",
        "layouts = ['aligned','staggered']\n",
        "speculatities   = [0,1]\n",
        "#thermalizations = [0,1]\n",
        "lknlist = np.linspace(-2,2,100)\n",
        "dir = '/content/drive/MyDrive/Structure-Characterzation-Development/MC-Ray-Trace/NewData/'\n",
        "file_name_template = \"data-with-and-without-thermalization-sp{:.1f}-lkn{:+.2f}-{:s}.txt\"\n",
        "for  sp in speculatities:\n",
        "    for lo in layouts:\n",
        "        count = 0\n",
        "        for lkn in lknlist:\n",
        "            count += 1\n",
        "            print(count)\n",
        "            filename = dir+file_name_template.format(sp,lkn,lo)\n",
        "            # check if file exists\n",
        "            if os.path.exists(filename): continue\n",
        "            # set parameters\n",
        "            v_g, d = model_parameters['v_g'], model_parameters['d']\n",
        "            Kn = 10.0**lkn\n",
        "            tau00 = d*Kn/v_g\n",
        "            print(\"log Kn :\",lkn,\", Kn :\",Kn,\" MFP :\",v_g*tau00)\n",
        "            #model_parameters['thermalization_probability']  = th\n",
        "            model_parameters['specularity_probability']  = sp\n",
        "            model_parameters['tau00']  = tau00\n",
        "            run_inputs = set_up_parameters(model_parameters,sim_parameters,pore_arrangment=lo)\n",
        "            for k in ('d','L','v_g','r','tau00','k_bulk','tau_max'): print(k,\":\",run_inputs[k])\n",
        "            for k in ('thermalization_probability', 'specularity_probability'): print(k,\":\",run_inputs[k])\n",
        "            print('Layout', lo)\n",
        "            kb = run_inputs['k_bulk']\n",
        "            # run\n",
        "            #t, ACFm, ACFe, km, ke = averagePhonons(run_inputs)\n",
        "            t, ACFm, ACFe, km, ke, ACFmth, ACFeth, kmth, keth = averagePhonons(run_inputs)\n",
        "            # save\n",
        "            data = np.hstack((ACFm,km,ACFmth,kmth))\n",
        "            uncertainty = np.hstack((ACFe,ke,ACFeth,keth))\n",
        "            WriteDataFile(filename, run_inputs, data, uncertainty)\n",
        "            # plot\n",
        "            plotdata = [[t/tau00,ACFm[:,i],ACFe[:,i]] for i in range(3)]\n",
        "            for i in range(3):\n",
        "                plotdata.append([t/tau00,ACFmth[:,i],ACFeth[:,i]])\n",
        "            quickmultierrplot(plotdata,\n",
        "                              xlab='Correlation time $\\\\tau/\\\\theta_o$',\n",
        "                              ylab=\"HCACF (Arb. U.)\",\n",
        "                              savefile=False, filename=\"A-sp-00-th-00.png\")\n",
        "            plotdata = [[t/tau00,km[:,i]/kb,ke[:,i]/kb] for i in range(3)]\n",
        "            for i in range(3):\n",
        "                plotdata.append([t/tau00,kmth[:,i]/kb,keth[:,i]/kb])\n",
        "            quickmultierrplot(plotdata,\n",
        "                              xlab='Correlation time $\\\\tau/\\\\theta_o$',\n",
        "                              ylab=\"Cumulative cond. $\\\\kappa(\\\\tau)/\\kappa_{bulk}$\",\n",
        "                              savefile=False, filename=\"K-sp-00-th-00.png\")"
      ],
      "metadata": {
        "id": "6Fpvv_jemCEY"
      },
      "execution_count": null,
      "outputs": []
    },
    {
      "cell_type": "markdown",
      "source": [
        "# OLD"
      ],
      "metadata": {
        "id": "bQy1eWQbk-7m"
      }
    },
    {
      "cell_type": "code",
      "source": [
        "def WriteDataFile(outfile, v_g, tau_0_0, d, tau_max, alphas, data, uncertainty):\n",
        "    # Function to write a block of data as a big file\n",
        "    paramkey = 'Paramters: v_g='+str(v_g)+' tau_0_0='+str(tau_0_0)+' d='+str(d)+' tau_max='+str(tau_max)+' Kn='+str(v_g*tau_0_0/d)+'\\n'\n",
        "    headkey = (\"Time\",\"data[0]\",\"data[1]\",\"data[...]\",\"uncertainty[0]\",\"uncertainty[1]\",\"uncertainty[...]\")\n",
        "    separator = ' '\n",
        "    with open(outfile, 'w') as writer:\n",
        "        writer.write(paramkey)\n",
        "        writer.write('alphas:'+separator+separator.join(map(str, alphas))+\"\\n\")\n",
        "        writer.write(separator.join(headkey)+\"\\n\")\n",
        "        time = np.linspace(0.0, tau_max, time_intervals)\n",
        "        for i in range(time_intervals):\n",
        "            writer.write(str(time[i])+separator+separator.join(map(str,data[:,i]))+separator+separator.join(map(str,uncertainty[:,i]))+\"\\n\")"
      ],
      "metadata": {
        "id": "poahphw-rLNs"
      },
      "execution_count": null,
      "outputs": []
    },
    {
      "cell_type": "code",
      "source": [
        "def WriteDataFile(outfile, inps, data, uncertainty):\n",
        "    # Function to write a block of data as a big file\n",
        "    paramkey = inps\n",
        "    #paramkey = 'Paramters: v_g='+str(v_g)+' tau_0_0='+str(tau_0_0)+' d='+str(d)+' tau_max='+str(tau_max)+' Kn='+str(v_g*tau_0_0/d)+'\\n'\n",
        "    headkey = (\"Time\",\"data[0]\",\"data[1]\",\"data[...]\",\"uncertainty[0]\",\"uncertainty[1]\",\"uncertainty[...]\")\n",
        "    separator = ' '\n",
        "    with open(outfile, 'w') as writer:\n",
        "        writer.write(paramkey)\n",
        "        writer.write('alphas:'+separator+separator.join(map(str, alphas))+\"\\n\")\n",
        "        writer.write(separator.join(headkey)+\"\\n\")\n",
        "        time = np.linspace(0.0, tau_max, time_intervals)\n",
        "        for i in range(time_intervals):\n",
        "            writer.write(str(time[i])+separator+separator.join(map(str,data[:,i]))+separator+separator.join(map(str,uncertainty[:,i]))+\"\\n\")"
      ],
      "metadata": {
        "id": "OEEIbki-uKTH"
      },
      "execution_count": null,
      "outputs": []
    },
    {
      "cell_type": "code",
      "source": [
        "model_parameters['thermalization_probability']  = 0\n",
        "model_parameters['specularity_probability']  = 0\n",
        "model_parameters['alpha']  = 0.0\n",
        "model_parameters['tau00']  = 1.0\n",
        "inputs = set_up_parameters(model_parameters,sim_parameters)\n",
        "#print(inputs)\n",
        "for k in ('d','L','v_g','r','tau00','k_bulk'): print(k,inputs[k])\n",
        "for k in ('thermalization_probability', 'specularity_probability'): print(k,inputs[k])\n",
        "kb = inputs['k_bulk']\n",
        "\n",
        "t, ACFm, ACFe, km, ke = averagePhonons(inputs)\n",
        "quickmultierrplot([[t,ACFm[:,i],ACFe[:,i]] for i in range(3)],\n",
        "                  xlab='Correlation time $\\\\tau/\\\\theta_o$',\n",
        "                  ylab=\"HCACF (Arb. U.)\",\n",
        "                  savefile=True, filename=\"A-sp-00-th-00.png\")\n",
        "quickmultierrplot([[t,km[:,i]/kb,ke[:,i]/kb] for i in range(3)],\n",
        "                  xlab='Correlation time $\\\\tau/\\\\theta_o$',\n",
        "                  ylab=\"Cumulative cond. $\\\\kappa(\\\\tau)/\\kappa_{bulk}$\",\n",
        "                  savefile=True, filename=\"K-sp-00-th-00.png\")\n",
        "\n",
        "#WriteDataFile"
      ],
      "metadata": {
        "id": "bqhDyzajZg19"
      },
      "execution_count": null,
      "outputs": []
    },
    {
      "cell_type": "code",
      "source": [
        "model_parameters['thermalization_probability']  = 1.0\n",
        "model_parameters['specularity_probability']  = 0.0\n",
        "model_parameters['alpha']  = 0.0\n",
        "model_parameters['tau00']  = 1.0\n",
        "sim_parameters['nSamplesPerBlock']  = 100\n",
        "inputs = set_up_parameters(model_parameters,sim_parameters)\n",
        "#print(inputs)\n",
        "for k in ('d','L','v_g','r','tau00','k_bulk'): print(k,inputs[k])\n",
        "for k in ('thermalization_probability', 'specularity_probability'): print(k,inputs[k])\n",
        "kb = inputs['k_bulk']\n",
        "t, ACFm, ACFe, km, ke = averagePhonons(inputs)\n",
        "quickmultierrplot([[t,ACFm[:,i],ACFe[:,i]] for i in range(3)],\n",
        "                  xlab='Correlation time $\\\\tau/\\\\theta_o$',\n",
        "                  ylab=\"HCACF (Arb. U.)\",\n",
        "                  savefile=True, filename=\"A-sp-00-th-10.png\")\n",
        "quickmultierrplot([[t,km[:,i]/kb,ke[:,i]/kb] for i in range(3)],\n",
        "                  xlab='Correlation time $\\\\tau/\\\\theta_o$',\n",
        "                  ylab=\"Cumulative cond. $\\\\kappa(\\\\tau)/\\kappa_{bulk}$\",\n",
        "                  savefile=True, filename=\"K-sp-00-th-10.png\")"
      ],
      "metadata": {
        "id": "ijD3SMafS4WX"
      },
      "execution_count": null,
      "outputs": []
    },
    {
      "cell_type": "code",
      "source": [
        "model_parameters['thermalization_probability']  = 0\n",
        "model_parameters['specularity_probability']  = 0\n",
        "model_parameters['alpha']  = 0.75\n",
        "model_parameters['tau00']  = 1.0\n",
        "sim_parameters['nSamplesPerBlock']  = 100\n",
        "inputs = set_up_parameters(model_parameters,sim_parameters)\n",
        "#print(inputs)\n",
        "for k in ('d','L','v_g','r','tau00','k_bulk'): print(k,inputs[k])\n",
        "for k in ('thermalization_probability', 'specularity_probability'): print(k,inputs[k])\n",
        "kb = inputs['k_bulk']\n",
        "t, ACFm, ACFe, km, ke = averagePhonons(inputs)\n",
        "quickmultierrplot([[t,ACFm[:,i],ACFe[:,i]] for i in range(3)])\n",
        "quickmultierrplot([[t,km[:,i]/kb,ke[:,i]/kb] for i in range(3)])"
      ],
      "metadata": {
        "id": "V0RSnWwQAkwX"
      },
      "execution_count": null,
      "outputs": []
    },
    {
      "cell_type": "code",
      "source": [
        "model_parameters['thermalization_probability']  = 0\n",
        "model_parameters['specularity_probability']  = 1.0\n",
        "model_parameters['alpha']  = 0.75\n",
        "model_parameters['tau00']  = 1.0\n",
        "sim_parameters['nSamplesPerBlock']  = 100\n",
        "inputs = set_up_parameters(model_parameters,sim_parameters)\n",
        "#print(inputs)\n",
        "for k in ('d','L','v_g','r','tau00','k_bulk'): print(k,inputs[k])\n",
        "for k in ('thermalization_probability', 'specularity_probability'): print(k,inputs[k])\n",
        "kb = inputs['k_bulk']\n",
        "t, ACFm, ACFe, km, ke = averagePhonons(inputs)\n",
        "quickmultierrplot([[t,ACFm[:,i],ACFe[:,i]] for i in range(3)])\n",
        "quickmultierrplot([[t,km[:,i]/kb,ke[:,i]/kb] for i in range(3)])"
      ],
      "metadata": {
        "id": "79DEuoPrAxSB"
      },
      "execution_count": null,
      "outputs": []
    },
    {
      "cell_type": "code",
      "source": [
        "model_parameters['thermalization_probability']  = 1.0\n",
        "model_parameters['specularity_probability']  = 0\n",
        "model_parameters['alpha']  = 0.75\n",
        "model_parameters['tau00']  = 1.0\n",
        "sim_parameters['nSamplesPerBlock']  = 100\n",
        "inputs = set_up_parameters(model_parameters,sim_parameters)\n",
        "#print(inputs)\n",
        "for k in ('d','L','v_g','r','tau00','k_bulk'): print(k,inputs[k])\n",
        "for k in ('thermalization_probability', 'specularity_probability'): print(k,inputs[k])\n",
        "kb = inputs['k_bulk']\n",
        "t, ACFm, ACFe, km, ke = averagePhonons(inputs)\n",
        "quickmultierrplot([[t,ACFm[:,i],ACFe[:,i]] for i in range(3)])\n",
        "quickmultierrplot([[t,km[:,i]/kb,ke[:,i]/kb] for i in range(3)])"
      ],
      "metadata": {
        "id": "sZXQ_Y-xAzVy"
      },
      "execution_count": null,
      "outputs": []
    },
    {
      "cell_type": "code",
      "source": [
        "model_parameters['thermalization_probability']  = 1.0\n",
        "model_parameters['specularity_probability']  = 1.0\n",
        "model_parameters['alpha']  = 0.75\n",
        "model_parameters['tau00']  = 1.0\n",
        "sim_parameters['nSamplesPerBlock']  = 100\n",
        "inputs = set_up_parameters(model_parameters,sim_parameters)\n",
        "#print(inputs)\n",
        "for k in ('d','L','v_g','r','tau00','k_bulk'): print(k,inputs[k])\n",
        "for k in ('thermalization_probability', 'specularity_probability'): print(k,inputs[k])\n",
        "kb = inputs['k_bulk']\n",
        "t, ACFm, ACFe, km, ke = averagePhonons(inputs)\n",
        "quickmultierrplot([[t,ACFm[:,i],ACFe[:,i]] for i in range(3)],\n",
        "                  xlab='Correlation time $\\\\tau/\\\\theta_o$',\n",
        "                  ylab=\"HCACF (Arb. U.)\",\n",
        "                  savefile=True, filename=\"A-sp-05-th-05.png\")\n",
        "quickmultierrplot([[t,km[:,i]/kb,ke[:,i]/kb] for i in range(3)],\n",
        "                  xlab='Correlation time $\\\\tau/\\\\theta_o$',\n",
        "                  ylab=\"Cumulative cond. $\\\\kappa(\\\\tau)/\\kappa_{bulk}$\",\n",
        "                  savefile=True, filename=\"K-sp-10-th-10.png\")"
      ],
      "metadata": {
        "id": "rpQS3v9PA1z9"
      },
      "execution_count": null,
      "outputs": []
    },
    {
      "cell_type": "code",
      "source": [
        "model_parameters['thermalization_probability']  = 0.5\n",
        "model_parameters['specularity_probability']  = 0.5\n",
        "model_parameters['alpha']  = 0.75\n",
        "model_parameters['tau00']  = 1.0\n",
        "sim_parameters['nSamplesPerBlock']  = 100\n",
        "inputs = set_up_parameters(model_parameters,sim_parameters)\n",
        "#print(inputs)\n",
        "for k in ('d','L','v_g','r','tau00','k_bulk'): print(k,inputs[k])\n",
        "for k in ('thermalization_probability', 'specularity_probability'): print(k,inputs[k])\n",
        "kb = inputs['k_bulk']\n",
        "t, ACFm, ACFe, km, ke = averagePhonons(inputs)\n",
        "quickmultierrplot([[t,ACFm[:,i],ACFe[:,i]] for i in range(3)],\n",
        "                  xlab='Correlation time $\\\\tau/\\\\theta_o$',\n",
        "                  ylab=\"HCACF (Arb. U.)\",\n",
        "                  savefile=True, filename=\"A-sp-05-th-05.png\")\n",
        "quickmultierrplot([[t,km[:,i]/kb,ke[:,i]/kb] for i in range(3)],\n",
        "                  xlab='Correlation time $\\\\tau/\\\\theta_o$',\n",
        "                  ylab=\"Cumulative cond. $\\\\kappa(\\\\tau)/\\kappa_{bulk}$\",\n",
        "                  savefile=True, filename=\"K-sp-05-th-05.png\")"
      ],
      "metadata": {
        "id": "Q4rzmRjlA4ML"
      },
      "execution_count": null,
      "outputs": []
    },
    {
      "cell_type": "markdown",
      "source": [],
      "metadata": {
        "id": "JzH6QL4HAj7z"
      }
    },
    {
      "cell_type": "code",
      "source": [
        "quickmultierrplot([[t,ACFm[:,i],ACFe[:,i]] for i in range(3)])\n",
        "quickmultierrplot([[t,km[:,i],ke[:,i]] for i in range(3)])"
      ],
      "metadata": {
        "id": "a9L6Sxo4SkdV"
      },
      "execution_count": null,
      "outputs": []
    },
    {
      "cell_type": "code",
      "source": [
        "def WriteDataFile(outfile, v_g, tau_0_0, d, tau_max, alphas, data, uncertainty):\n",
        "    # Function to write a block of data as a big file\n",
        "    paramkey = 'Paramters: v_g='+str(v_g)+' tau_0_0='+str(tau_0_0)+' d='+str(d)+' tau_max='+str(tau_max)+' Kn='+str(v_g*tau_0_0/d)+'\\n'\n",
        "    headkey = (\"Time\",\"data[0]\",\"data[1]\",\"data[...]\",\"uncertainty[0]\",\"uncertainty[1]\",\"uncertainty[...]\")\n",
        "    separator = ' '\n",
        "    with open(outfile, 'w') as writer:\n",
        "        writer.write(paramkey)\n",
        "        writer.write('alphas:'+separator+separator.join(map(str, alphas))+\"\\n\")\n",
        "        writer.write(separator.join(headkey)+\"\\n\")\n",
        "        time = np.linspace(0.0, tau_max, time_intervals)\n",
        "        for i in range(time_intervals):\n",
        "            writer.write(str(time[i])+separator+separator.join(map(str,data[:,i]))+separator+separator.join(map(str,uncertainty[:,i]))+\"\\n\")"
      ],
      "metadata": {
        "id": "48o67W1m5ahb"
      },
      "execution_count": null,
      "outputs": []
    },
    {
      "cell_type": "code",
      "source": [
        "tmp = np.arange(10)\n",
        "print(tmp)\n",
        "print(tmp[0:1])\n",
        "print(np.ones([i1-i0,1]).shape)\n",
        "print(dir_list[0].shape)\n",
        "print(np.matmul(np.ones([i1-i0,1]),dir_list[i].reshape([1,3])))\n",
        "#print(np.matmul(np.ones(i1-i0),dir_list[i]))"
      ],
      "metadata": {
        "id": "y4vtlxGcJgbW"
      },
      "execution_count": null,
      "outputs": []
    },
    {
      "cell_type": "code",
      "source": [
        "#p  = RandomPositionInBox()\n",
        "p = np.array([d,L,0])*0.25 # For debugging\n",
        "#nv = RandomDirectionInHalfSpace(np.array([0,0,-1]))\n",
        "nv = normalize(np.array([1,1,0])) # For debugging\n",
        "print(p)\n",
        "print(nv)\n",
        "#print(PathInCell(p,nv,walls,pillar))\n",
        "max_dist = 10.0\n",
        "dir_list, dist_list, pos_list, wallindex = RayTrace(p,nv,walls,pillar,max_dist,verbose=True)\n",
        "#print(\"Leg directions:\",dir_list)\n",
        "print(\"Leg distances:\",dist_list)\n",
        "#print(pos_list)\n",
        "#print(\"Wallindex:\",wallindex)\n",
        "\n",
        "quickplot(pos_list[:,0],pos_list[:,1])"
      ],
      "metadata": {
        "id": "PQ5jqM6TpyEP"
      },
      "execution_count": null,
      "outputs": []
    },
    {
      "cell_type": "markdown",
      "source": [
        "Compute the Heat flux and its ACF"
      ],
      "metadata": {
        "id": "y_VAOsbz-4xM"
      }
    },
    {
      "cell_type": "code",
      "source": [],
      "metadata": {
        "id": "jnp1AXDB-4PD"
      },
      "execution_count": null,
      "outputs": []
    },
    {
      "cell_type": "markdown",
      "source": [
        "#Old: Light in pillars"
      ],
      "metadata": {
        "id": "Pu6Yrej3zLa0"
      }
    },
    {
      "cell_type": "markdown",
      "metadata": {
        "id": "PZg8IkcPUTSd"
      },
      "source": [
        "## Function to trace ray in a single cell"
      ]
    },
    {
      "cell_type": "markdown",
      "metadata": {
        "id": "oNd-QyfNr5ms"
      },
      "source": [
        "Define a function that folows the flight of a ray in a cell untill it hits the walls or it hits the pillar"
      ]
    },
    {
      "cell_type": "code",
      "metadata": {
        "id": "8CmQOuOj8GkN"
      },
      "source": [
        "def PathInCell(p,nv,walls,pillar,path):\n",
        "    \"\"\"\n",
        "       Follow a ray in a cell starting from point p traveling in direction nv\n",
        "       untill it eaither exits the cell or hits an object (the pillar) within\n",
        "       the cell.\n",
        "\n",
        "       input:\n",
        "              p         : starting position\n",
        "              nv        : ray direction\n",
        "              walls     : list of pairs of normal vector and reference positions\n",
        "                          used to define each of the walls that bound the cell\n",
        "              pillar    : parameters needed to describe the pillar\n",
        "       out:\n",
        "              pn        : New position after flighht in cell\n",
        "              wallindex : random vector (numpy array)\n",
        "    \"\"\"\n",
        "\n",
        "    # Find the distance along the ray to all the walls\n",
        "    hit_dist = [WallDistance(p,nv,wp,wn) for wn,wp in walls]\n",
        "    #print(p,nv)\n",
        "    # Determine if the ray hits the pillar and append the distance to the\n",
        "    # pillar to the list of wall distances\n",
        "    dist = DistanceToPillar(p,nv,pillar)\n",
        "    if dist == 1:\n",
        "        #fig = plt.figure()\n",
        "        #ax = fig.add_subplot(111,projection = '3d')\n",
        "        #path = np.array(path)\n",
        "        #print(path)\n",
        "        #plt.plot(path[:,0],path[:,1],path[:,2],'ko-')\n",
        "        input(\"Press enter to continue\")\n",
        "        #quit()\n",
        "    elif dist != -1:\n",
        "        hit_dist.append(dist)\n",
        "    #print(hit_dist)\n",
        "    epsilon = 1e-10\n",
        "    # Find the shortest positive distance to hit something --\n",
        "    # and then retrun the index of the wall this corresponds to.\n",
        "    wallindex = IndexOfSmallestPositiveValue(hit_dist,epsilon)\n",
        "    #print(\"Ray hits Wall \"+ str(int(wallindex)))\n",
        "\n",
        "    # Determine the position that that the ray strikes the wall\n",
        "    pn = p + hit_dist[wallindex]*nv\n",
        "\n",
        "    return pn, wallindex\n",
        "\n",
        "# Test\n",
        "\n",
        "\n",
        "#p  = RandomPositionInBox()\n",
        "#p = np.array([d,L,0])*0.5 # For debugging\n",
        "#nv = RandomDirectionInHalfSpace(np.array([0,0,-1]))\n",
        "#print(p)\n",
        "#print(nv)\n",
        "#print(PathInCell(p,nv,walls,pillar))\n"
      ],
      "execution_count": null,
      "outputs": []
    },
    {
      "cell_type": "markdown",
      "metadata": {
        "id": "9VccHWlyUypQ"
      },
      "source": [
        "# Function to trace full ray trajectory"
      ]
    },
    {
      "cell_type": "markdown",
      "metadata": {
        "id": "YI5iCnX1sC3c"
      },
      "source": [
        "Define a function that traces the trajectory of a ray through multiple cells and scattering events untill it is absorbed or lost through the top of the box.\n",
        "Each time a ray hits a wall it can do one of four things:\n",
        "\n",
        "1.   Stop (be adsorbed, or lost)\n",
        "2.   Pass through unhindered\n",
        "3.   Scatter diffusely\n",
        "4.   Scatter speculalrly\n",
        "\n",
        "There is s probability for each\n"
      ]
    },
    {
      "cell_type": "code",
      "metadata": {
        "id": "kgy20OPc41Ln"
      },
      "source": [
        "def Transmit(nv):\n",
        "    \"\"\"\n",
        "       Return the new direction and position of the ray after it is transmitted\n",
        "       point that is transmitted\n",
        "    \"\"\"\n",
        "    return nv\n",
        "\n",
        "def Adsorb(nv):\n",
        "    \"\"\"\n",
        "       Return the new direction and position of the ray after it is transmitted\n",
        "       point that is transmitted\n",
        "    \"\"\"\n",
        "    return nv\n",
        "\n",
        "def Spec_reflect(nv,wallnormal):\n",
        "    \"\"\"\n",
        "       Return the new direction and position of the ray after it is transmitted\n",
        "       point that is transmitted\n",
        "    \"\"\"\n",
        "    nnv = nv - 2*np.dot(wallnormal,nv)*wallnormal\n",
        "    return nnv\n",
        "\n",
        "def Diff_reflect(nv,wallnormal):\n",
        "    \"\"\"\n",
        "       Return the new direction and position of the ray after it is transmitted\n",
        "       point that is transmitted\n",
        "    \"\"\"\n",
        "    nnv = RandomDirectionInHalfSpace(wallnormal)\n",
        "    return nnv\n",
        "\n",
        "def WallEvent(p,nv,wallnormal,cumulative_probabilities):\n",
        "    \"\"\"\n",
        "       Decide what happens at a wall: The ray can either be:\n",
        "        * Transmitted with its direction unchanged, but the ray point shifted\n",
        "        * Adsorbed with the ray tracing stopped\n",
        "        * Scattered specularly\n",
        "        * Scattered diffusely\n",
        "        Follow a ray through a sequesnce of cells and scattering events starting\n",
        "       from point p traveling in direction nv untill some stopping condition is\n",
        "       reached. Return the list of cell locations at which the ray changed\n",
        "       direction, and their corresponding wall index.\n",
        "\n",
        "       input:\n",
        "              po        : ray starting position\n",
        "              nvo       : ray direction\n",
        "              walls     : list of pairs of normal vector and reference positions\n",
        "                          used to define each of the walls that bound the cell\n",
        "              pillar    : parameters needed to describe the pillar\n",
        "       out:\n",
        "              plist     : List of positions where scattering occured\n",
        "              wallindex : coreesponding wallindex for these events\n",
        "    \"\"\"\n",
        "\n",
        "    dice = np.random.rand()\n",
        "    #print(dice)\n",
        "    event = 0\n",
        "    while dice > cumulative_probabilities[event]:\n",
        "      #print(dice)\n",
        "      #print(cumulative_probabilities[event])\n",
        "      #print(event)\n",
        "      event += 1\n",
        "    #print(event)\n",
        "\n",
        "    # Switch between cases:\n",
        "    #switcher = {\n",
        "        #0: Transmit(nv),                    # Event 0: transmission\n",
        "        #1: Adsorb(nv),                      # Event 1: absorbtion\n",
        "       # 2: Spec_reflect(nv,wallnormal),     # Event 2: specular reflection\n",
        "       # 3: Diff_reflect(nv,wallnormal),     # Event 3: diffuse reflection\n",
        "    #}\n",
        "    #nnv = switcher.get(event, \"nothing\")\n",
        "    if event == 0:\n",
        "        nnv = Transmit(nv)\n",
        "    elif event == 1:\n",
        "        nnv = Adsorb(nv)\n",
        "    elif event == 2:\n",
        "        nnv = Spec_reflect(nv,wallnormal)\n",
        "    else:\n",
        "        nnv = Diff_reflect(nv,wallnormal)\n",
        "    return event, nnv\n",
        "\n",
        "#print(p)\n",
        "#print(nv)\n",
        "#print(walls)\n",
        "#wallindex = 4\n",
        "#wallnormal = walls[wallindex][0]\n",
        "#probabilities = cumulative_probabilities[wallindex]\n",
        "\n",
        "#WallEvent(p,nv,wallnormal,probabilities)"
      ],
      "execution_count": null,
      "outputs": []
    },
    {
      "cell_type": "code",
      "source": [
        "def ACF_FFT(t_max, J):\n",
        "    # Compute the autocorrelation of the instantaniouse flux vector\n",
        "    nd = J.shape\n",
        "    time_intervals = nd[1]\n",
        "    c = np.zeros([3,time_intervals*2])\n",
        "    zpad = np.zeros(time_intervals)\n",
        "    sf = t_max/float(time_intervals)\n",
        "    for j in range(3):\n",
        "        dft  = np.fft.fft(np.concatenate((J[j],zpad)))\n",
        "        c[j] = np.fft.ifft(dft*np.conjugate(dft))*sf\n",
        "    return c[:,:time_intervals]"
      ],
      "metadata": {
        "id": "_sCsA-d_LnLk"
      },
      "execution_count": null,
      "outputs": []
    },
    {
      "cell_type": "code",
      "source": [
        "normalize = lambda vector: vector/(np.linalg.norm(vector))\n",
        "\n",
        "def PillarNormalAtPoint(p,co,PitchAngle):\n",
        "    \"\"\"\n",
        "    Returns the normal direction on the surface of the cone at position p\n",
        "    \"\"\"\n",
        "    conevector = p - co\n",
        "    normcone = np.linalg.norm(conevector[0:2])\n",
        "    cone_z = normcone*np.tan(PitchAngle)\n",
        "    wallnormal = np.array([np.sin(np.pi/2 - PitchAngle)*(conevector[0]/normcone),\n",
        "                           np.sin(np.pi/2 - PitchAngle)*(conevector[1]/normcone),\n",
        "                           np.cos(np.pi/2 - PitchAngle)])\n",
        "    return wallnormal"
      ],
      "metadata": {
        "id": "HB9EcBuRLqah"
      },
      "execution_count": null,
      "outputs": []
    },
    {
      "cell_type": "code",
      "metadata": {
        "id": "E4NExs-sx8b5"
      },
      "source": [
        "normalize = lambda vector: vector/(np.linalg.norm(vector))\n",
        "\n",
        "def PillarNormalAtPoint(p,co,PitchAngle):\n",
        "    \"\"\"\n",
        "    Returns the normal direction on the surface of the cone at position p\n",
        "    \"\"\"\n",
        "    conevector = p - co\n",
        "    normcone = np.linalg.norm(conevector[0:2])\n",
        "    cone_z = normcone*np.tan(PitchAngle)\n",
        "    wallnormal = np.array([np.sin(np.pi/2 - PitchAngle)*(conevector[0]/normcone),\n",
        "                           np.sin(np.pi/2 - PitchAngle)*(conevector[1]/normcone),\n",
        "                           np.cos(np.pi/2 - PitchAngle)])\n",
        "    return wallnormal\n",
        "\n",
        "def RayTrace(po,nvo,walls,pillar):\n",
        "    \"\"\"\n",
        "       Follow a ray through a sequesnce of cells and scattering events starting\n",
        "       from point p traveling in direction nv untill some stopping condition is\n",
        "       reached. Return the list of cell locations at which the ray changed\n",
        "       direction, and their corresponding wall index.\n",
        "\n",
        "       input:\n",
        "              po        : ray starting position\n",
        "              nvo       : ray direction\n",
        "              walls     : list of pairs of normal vector and reference positions\n",
        "                          used to define each of the walls that bound the cell\n",
        "              pillar    : parameters needed to describe the pillar\n",
        "       out:\n",
        "              plist     : List of positions where scattering occured\n",
        "              wallindex : coreesponding wallindex for these events\n",
        "    \"\"\"\n",
        "    p,nv1 = po,nvo # p is the initial starting point in the cell refference frame\n",
        "\n",
        "    nwalls = walls.shape[0] # number of walls\n",
        "    max_cells = 500                # Max number of itterations\n",
        "    step = 0\n",
        "    distance = 0\n",
        "    accum_shift = np.zeros(3)      # vector from starting point to current point\n",
        "                                   # as the crow flies\n",
        "\n",
        "    # Initialize path and event recording\n",
        "    path   = [p]\n",
        "    events = [[5,6]] # Event 5 (birth) at wall 6 (the top) Only record events\n",
        "                     # where the ray changes direction.\n",
        "    while step < max_cells:\n",
        "        #print(step)\n",
        "        step += 1\n",
        "        # Flight leg\n",
        "        pnew,wallindex = PathInCell(p,nv1,walls,pillar,path)\n",
        "        #plt.plot([pnew[0]],[pnew[1]],[pnew[2]])\n",
        "        #crow_vector += pnew-p\n",
        "\n",
        "        # Scatter\n",
        "        # If the ray hits the pillar we need to compute the normal vector at the\n",
        "        # point on the surface of the pillar where the ray hit\n",
        "        if wallindex >= nwalls:\n",
        "            wallnormal = PillarNormalAtPoint(p,co,PitchAngle)\n",
        "            cellshift  = np.zeros(3)\n",
        "        else:\n",
        "            wallnormal = walls[wallindex,0]\n",
        "            cellshift  = -2*walls[wallindex,1]\n",
        "\n",
        "        probabilities = cumulative_probabilities[wallindex]\n",
        "        scatterindex,nnv = WallEvent(p,nv1,wallnormal,probabilities)\n",
        "        #print(\"Scatterindex: \"+str(int(scatterindex)))\n",
        "        # Set up new flight leg\n",
        "\n",
        "        if scatterindex == 0:\n",
        "            # If wallindex is for an external wall and the scatterindex is for\n",
        "            # transmit then the ray goes into the next cell over. In which case\n",
        "            # shift p for this cell, and then go onto the next leg\n",
        "            #path.append(pnew)\n",
        "#            crow_vector += pnew-p\n",
        "#            print(\"pnew: \",pnew)\n",
        "#            print(\"crow_vector: \",crow_vector)\n",
        "#            print(\"p: \",p)\n",
        "            p = pnew + cellshift\n",
        "            accum_shift -= cellshift\n",
        "            path.append(p+accum_shift)\n",
        "\n",
        "        else:\n",
        "            # If wall index is for scattering then we continue in the current cell\n",
        "            # picking up a new leg starting from np and heading in the new direvtion\n",
        "            # nnv. In this case record the event, opdate nv and go onto the new leg.\n",
        "#            crow_vector += pnew-p\n",
        "#            path.append(crow_vector)\n",
        "            p = pnew\n",
        "           # print(p)\n",
        "            path.append(p+accum_shift)\n",
        "            nv1 = nnv\n",
        "            events.append([scatterindex,wallindex])\n",
        "            ptest = np.array(p)\n",
        "            #print(ptest)\n",
        "            if scatterindex==1:\n",
        "                # If scatterindex is for adsorb record the event and then stop.\n",
        "                return path,events,wallindex\n",
        "#        print(path)\n",
        "#        p1 = np.array(path)\n",
        "#        plt.plot(p1[:,0],p1[:,1],p1[:,2])\n",
        "\n",
        "    return path,events,wallindex\n"
      ],
      "execution_count": null,
      "outputs": []
    },
    {
      "cell_type": "code",
      "source": [
        "walls"
      ],
      "metadata": {
        "colab": {
          "base_uri": "https://localhost:8080/"
        },
        "id": "yug6cNxNdizT",
        "outputId": "965e3501-89b9-4851-afd8-b96ca9900296"
      },
      "execution_count": null,
      "outputs": [
        {
          "output_type": "execute_result",
          "data": {
            "text/plain": [
              "array([[[  -1.,    0.,    0.],\n",
              "        [  14.,    0.,    0.]],\n",
              "\n",
              "       [[   0.,   -1.,    0.],\n",
              "        [   0.,   14.,    0.]],\n",
              "\n",
              "       [[   1.,    0.,    0.],\n",
              "        [ -14.,    0.,    0.]],\n",
              "\n",
              "       [[   0.,    1.,    0.],\n",
              "        [   0.,  -14.,    0.]],\n",
              "\n",
              "       [[   0.,    0.,    1.],\n",
              "        [   0.,    0., -200.]],\n",
              "\n",
              "       [[   0.,    0.,   -1.],\n",
              "        [   0.,    0.,    0.]]])"
            ]
          },
          "metadata": {},
          "execution_count": 23
        }
      ]
    },
    {
      "cell_type": "code",
      "source": [
        "pillar"
      ],
      "metadata": {
        "colab": {
          "base_uri": "https://localhost:8080/"
        },
        "id": "Zfv81ZP3dy39",
        "outputId": "7937abb0-da61-45b1-b72c-32f7f12c3591"
      },
      "execution_count": null,
      "outputs": [
        {
          "output_type": "execute_result",
          "data": {
            "text/plain": [
              "[array([0., 0., 0.]), array([[1., 0., 0.],\n",
              "        [0., 1., 0.],\n",
              "        [0., 0., 0.]])]"
            ]
          },
          "metadata": {},
          "execution_count": 24
        }
      ]
    },
    {
      "cell_type": "code",
      "source": [
        "path,events,wallindex = RayTrace(po,nvo,walls,pillar)"
      ],
      "metadata": {
        "id": "VbyzknL7VlT_"
      },
      "execution_count": null,
      "outputs": []
    },
    {
      "cell_type": "code",
      "source": [
        "from numpy.core.function_base import linspace\n",
        "tmax = 10.0\n",
        "nt = 1001\n",
        "t = np.linspace(0,tmax,nt)\n",
        "J = np.zeros([nt,3])\n",
        "J = v = 1.0\n",
        "path\n"
      ],
      "metadata": {
        "colab": {
          "base_uri": "https://localhost:8080/"
        },
        "id": "buls42_meKmi",
        "outputId": "8315789f-cbfd-441d-fe4f-6c811a325817"
      },
      "execution_count": null,
      "outputs": [
        {
          "output_type": "execute_result",
          "data": {
            "text/plain": [
              "[array([9.97358829, 8.00454242, 0.        ]),\n",
              " array([ -1.75216904, -14.        , -17.70221793]),\n",
              " array([-14.        , -36.98426517, -36.19260338]),\n",
              " array([-16.67277948, -42.        , -40.22766257]),\n",
              " array([-23.26975615, -54.37987866, -50.18702941])]"
            ]
          },
          "metadata": {},
          "execution_count": 26
        }
      ]
    },
    {
      "cell_type": "markdown",
      "source": [
        "Run a simulation"
      ],
      "metadata": {
        "id": "TBKpzGySP4Wf"
      }
    },
    {
      "cell_type": "code",
      "metadata": {
        "id": "KWQfPdK9HYa-"
      },
      "source": [
        "pillarabs = []\n",
        "groundabs = []\n",
        "outofbox = []\n",
        "heights = np.linspace(10,200,20)\n",
        "for h in heights:\n",
        "  d = 14   # Length of the cell in x\n",
        "  L = 14   # Length in y\n",
        "  #h = 50   # Depth of the box in z. We assume all rays start at the z = zero\n",
        "            # plane and head in the negative z direction\n",
        "  RadiusAtTop = 5  # Radius of cylinder or cone at its top\n",
        "  PitchAngle  = 0.0*np.pi/180.0   # If 0 = cylinder\n",
        "\n",
        "  # vectors for cone equation\n",
        "  co = np.array([0.0,0.0,0.0]) # Cone apex\n",
        "  cm = np.identity(3)          # Cone matrix\n",
        "  if PitchAngle == 0:\n",
        "    # Cylinder\n",
        "    r = RadiusAtTop\n",
        "    s = 0.0\n",
        "  else:\n",
        "    # Cone\n",
        "    r = 0.0\n",
        "    s = -(np.tan(PitchAngle))**2\n",
        "    cone_height = RadiusAtTop/(np.tan(PitchAngle)) # Cone Height\n",
        "    co[2] = cone_height # Center\n",
        "\n",
        "  cm[2,2] = s\n",
        "\n",
        "  # Define the pillar parameters and walls of the cell\n",
        "\n",
        "  pillar = [co,cm]\n",
        "  walls  = [[[ -1, 0, 0],[ d, 0, 0]],\n",
        "          [[ 0, -1, 0],[ 0, L, 0]],\n",
        "          [[1, 0, 0],[-d, 0, 0]],\n",
        "          [[ 0,1, 0],[ 0,-L, 0]],\n",
        "          [[ 0, 0,1],[ 0, 0,-h]],\n",
        "          [[ 0, 0, -1],[ 0, 0, 0]]]\n",
        "  walls = np.array(walls)\n",
        "\n",
        "  wall_transmission_prob_list = [1.0, 1.0, 1.0, 1.0, 0.0, 0.0, 0.0]\n",
        "  wall_absorbtion_prob_list   = [0.0, 0.0, 0.0, 0.0, 0.8, 1.0, 0.8]\n",
        "  wall_specularity__list      = [0.0, 0.0, 0.0, 0.0, 1.0, 1.0, 1.0]\n",
        "\n",
        "  cumulative_probabilities = []\n",
        "\n",
        "  for i in range(len(wall_specularity__list)):\n",
        "      p_tran = wall_transmission_prob_list[i]\n",
        "      p_abs   = wall_absorbtion_prob_list[i]\n",
        "      spec  = wall_specularity__list[i]\n",
        "      cumulative_probabilities.append(GetCumProbs(p_tran,spec,p_abs))\n",
        "\n",
        "  cumulative_probabilities = np.array(cumulative_probabilities)\n",
        "\n",
        "  hit_count = np.array([0,0,0])\n",
        "  # 0th index: Absorbed by pillar\n",
        "  # 1st index: Absorbed by ground\n",
        "  # 2nd index: Leaves out of top\n",
        "  wallindex_position_list = []\n",
        "  last_positions_list = []\n",
        "\n",
        "  zs = []\n",
        "  for i in range(100000):\n",
        "      #print(i)\n",
        "    x = np.random.uniform(-d,d)\n",
        "    y = np.random.uniform(-L,L)\n",
        "    z = 0\n",
        "    #po = np.array([0.5,0.25,0.0])\n",
        "    po = np.array([x,y,z])\n",
        "    if x >= -RadiusAtTop and x <= RadiusAtTop and y >= -RadiusAtTop and y <= RadiusAtTop:\n",
        "      InCone = True\n",
        "      while InCone:\n",
        "          x = np.random.uniform(-d,d)\n",
        "          y = np.random.uniform(-L,L)\n",
        "          z = 0\n",
        "          #po = np.array([0.5,0.25,0.0])\n",
        "          po = np.array([x,y,z])\n",
        "          if x < -RadiusAtTop or x > RadiusAtTop or y < -RadiusAtTop or y > RadiusAtTop:\n",
        "              InCone = False\n",
        "    nvo = RandomDirectionInHalfSpace([0,0,-1])\n",
        "    nvo = normalize(nvo)\n",
        "    path,events,wallindex = RayTrace(po,nvo,walls,pillar)\n",
        "    path = np.array(path)\n",
        "    if wallindex == 6:\n",
        "      hit_count[0] += 1\n",
        "    elif wallindex == 4:\n",
        "      hit_count[1] += 1\n",
        "    elif wallindex == 5:\n",
        "      hit_count[2] += 1\n",
        "\n",
        "    #print(path[-1,:])\n",
        "    last_positions_list.append([path[-1,0],path[-1,1],path[-1,2]])\n",
        "    wallindex_position_list.append([wallindex,path[-1,0],path[-1,1],path[-1,2]])\n",
        "    zs.append(path[-1,2])\n",
        "  #print(\"Absorbed by pillar\",hit_count[0],\"times\")\n",
        "  #print(\"Absorbed by ground\",hit_count[1],\"times\")\n",
        "  #print(\"Leaves top of the box\",hit_count[2],\"times\")\n",
        "  pillarabs.append(hit_count[0]/100000)\n",
        "  groundabs.append(hit_count[1]/100000)\n",
        "  outofbox.append(hit_count[2]/100000)\n",
        "\n",
        "#np.savetxt(\"Cylinder-Depth50.txt\",wallindex_position_list)\n",
        "#np.savetxt(\"Cylinder-Depth50-WallHeight.txt\",wallindex_position_list)\n",
        "#np.savetxt(\"Cone-Depth50-Angle15.txt\",wallindex_position_list)\n",
        "\n",
        "np.savetxt(\"Cylinder-Pillar.txt\",pillarabs)\n",
        "np.savetxt(\"Cylinder-Ground.txt\",groundabs)\n",
        "np.savetxt(\"Cylinder-LeavesBox.txt\",outofbox)\n",
        "\n",
        "    #print(path)\n",
        "    #print(events)\n",
        "\n",
        "#fig = plt.figure()\n",
        "#ax = fig.add_subplot(111)\n",
        "#ax.plot(heights,pillarabs,heights,groundabs,heights,outofbox)\n",
        "#last_positions_list = np.array(last_positions_list)\n",
        "#plt.plot(last_positions_list[:,0],last_positions_list[:,1],last_positions_list[:,2],'ko')\n",
        "#Plot_Data_Distribution(zs)\n",
        "#Plot_Data_Distribution(zs,bw_method=)"
      ],
      "execution_count": null,
      "outputs": []
    },
    {
      "cell_type": "code",
      "metadata": {
        "colab": {
          "base_uri": "https://localhost:8080/",
          "height": 423
        },
        "id": "yTmKRmgv-mkI",
        "outputId": "cc0e0194-e8e9-4f89-f4ce-809fcd248916"
      },
      "source": [
        "fig = plt.figure()\n",
        "ax = fig.add_subplot(111)\n",
        "line1 = ax.plot(heights,pillarabs,'bo-')\n",
        "line2 = ax.plot(heights,groundabs,'rs-')\n",
        "line3 = ax.plot(heights,outofbox,'gv-')\n",
        "ax.set(xlabel=\"Depth of Box\",ylabel=\"Fraction\",title = \"Fraction vs Box Depth at \"+str(PitchAngle*180/np.pi)+\" degree pitch\")\n"
      ],
      "execution_count": null,
      "outputs": [
        {
          "output_type": "execute_result",
          "data": {
            "text/plain": [
              "[Text(0, 0.5, 'Fraction'),\n",
              " Text(0.5, 0, 'Depth of Box'),\n",
              " Text(0.5, 1.0, 'Fraction vs Box Depth at 4.0 degree pitch')]"
            ]
          },
          "metadata": {},
          "execution_count": 27
        },
        {
          "output_type": "display_data",
          "data": {
            "image/png": "[encoded data removed]",
            "text/plain": [
              "<Figure size 432x360 with 1 Axes>"
            ]
          },
          "metadata": {
            "needs_background": "light"
          }
        }
      ]
    },
    {
      "cell_type": "code",
      "metadata": {
        "colab": {
          "base_uri": "https://localhost:8080/"
        },
        "id": "mowryCYtcPV3",
        "outputId": "ec84e010-83b0-4155-ecc1-91166371d4c3"
      },
      "source": [
        "max(pillarabs)"
      ],
      "execution_count": null,
      "outputs": [
        {
          "output_type": "execute_result",
          "data": {
            "text/plain": [
              "0.93406"
            ]
          },
          "metadata": {},
          "execution_count": 28
        }
      ]
    },
    {
      "cell_type": "code",
      "metadata": {
        "colab": {
          "base_uri": "https://localhost:8080/",
          "height": 350
        },
        "id": "3Csn4GsVmnFG",
        "outputId": "cffdc779-f1ce-4f47-eb11-31fff9e5960d"
      },
      "source": [
        "Plot_Data_Distribution(zs,bw_method=0.1)"
      ],
      "execution_count": null,
      "outputs": [
        {
          "output_type": "display_data",
          "data": {
            "image/png": "[encoded data removed]",
            "text/plain": [
              "<Figure size 432x360 with 1 Axes>"
            ]
          },
          "metadata": {
            "needs_background": "light"
          }
        }
      ]
    },
    {
      "cell_type": "code",
      "metadata": {
        "id": "yPBErbJD5HLq"
      },
      "source": [
        "def Plot_Data_Distribution(data,bw_method=None,**kwargs):\n",
        "    # make a probability distribution function of the data\n",
        "    from scipy.stats.kde import gaussian_kde\n",
        "\n",
        "    # this create the kernel, given an array it will estimate the probability over that values\n",
        "    kde = gaussian_kde(data,bw_method=bw_method)\n",
        "    # these are the values over wich your kernel will be evaluated\n",
        "    dist_space = np.linspace(min(data), max(data), 100)\n",
        "    # plot the results\n",
        "    quickplot(dist_space,kde(dist_space),\"Data value\",\"Probability\",'-')\n",
        "\n"
      ],
      "execution_count": null,
      "outputs": []
    },
    {
      "cell_type": "code",
      "metadata": {
        "colab": {
          "base_uri": "https://localhost:8080/",
          "height": 430
        },
        "id": "_V0eL28rFHUZ",
        "outputId": "e3f2033d-e5b2-4ea9-c29d-580d6161d407"
      },
      "source": [
        "print(path)\n",
        "path = np.array(path)\n",
        "plt.plot(path[:,0],path[:,2],\"ko-\")\n",
        "print(events)"
      ],
      "execution_count": null,
      "outputs": [
        {
          "output_type": "stream",
          "text": [
            "[[ -9.87947207   0.97793341   0.        ]\n",
            " [-13.94413528 -14.         -15.81727452]\n",
            " [-14.         -14.20585668 -16.0346671 ]\n",
            " [-21.54268488 -42.         -45.38635287]\n",
            " [-22.72828242 -46.36882469 -50.        ]]\n",
            "[[5, 6], [1, 4]]\n"
          ],
          "name": "stdout"
        },
        {
          "output_type": "display_data",
          "data": {
            "image/png": "[encoded data removed]",
            "text/plain": [
              "<Figure size 432x360 with 1 Axes>"
            ]
          },
          "metadata": {
            "tags": [],
            "needs_background": "light"
          }
        }
      ]
    },
    {
      "cell_type": "code",
      "metadata": {
        "id": "CCv66UC8A5FY",
        "colab": {
          "base_uri": "https://localhost:8080/",
          "height": 320
        },
        "outputId": "f614952b-15f6-49ff-aa29-aef23c8c57c2"
      },
      "source": [
        "fig = plt.figure()\n",
        "ax = fig.add_subplot(111,projection = '3d')\n",
        "path = np.array(path)\n",
        "plt.plot(path[:,0],path[:,1],path[:,2],\"ko-\")"
      ],
      "execution_count": null,
      "outputs": [
        {
          "output_type": "execute_result",
          "data": {
            "text/plain": [
              "[<mpl_toolkits.mplot3d.art3d.Line3D at 0x7f2b7eb91910>]"
            ]
          },
          "metadata": {
            "tags": []
          },
          "execution_count": 14
        },
        {
          "output_type": "display_data",
          "data": {
            "image/png": "[encoded data removed]",
            "text/plain": [
              "<Figure size 432x360 with 1 Axes>"
            ]
          },
          "metadata": {
            "tags": [],
            "needs_background": "light"
          }
        }
      ]
    },
    {
      "cell_type": "code",
      "metadata": {
        "colab": {
          "base_uri": "https://localhost:8080/",
          "height": 345
        },
        "id": "fuA74QX4s-rv",
        "outputId": "1b31abb6-92a4-47e3-a8c8-56b2b376146d"
      },
      "source": [
        "path = np.array(path)\n",
        "plt.plot(path[:,0],path[:,1],\"ko-\")"
      ],
      "execution_count": null,
      "outputs": [
        {
          "output_type": "execute_result",
          "data": {
            "text/plain": [
              "[<matplotlib.lines.Line2D at 0x7f2b76a99550>]"
            ]
          },
          "metadata": {
            "tags": []
          },
          "execution_count": 15
        },
        {
          "output_type": "display_data",
          "data": {
            "image/png": "[encoded data removed]",
            "text/plain": [
              "<Figure size 432x360 with 1 Axes>"
            ]
          },
          "metadata": {
            "tags": [],
            "needs_background": "light"
          }
        }
      ]
    },
    {
      "cell_type": "code",
      "metadata": {
        "colab": {
          "base_uri": "https://localhost:8080/"
        },
        "id": "xLHSMVpD6KQk",
        "outputId": "4f4a4d16-983d-428c-df40-5060549b6563"
      },
      "source": [
        "print(po)"
      ],
      "execution_count": null,
      "outputs": [
        {
          "output_type": "stream",
          "text": [
            "[0.5  0.25 0.  ]\n"
          ],
          "name": "stdout"
        }
      ]
    },
    {
      "cell_type": "code",
      "metadata": {
        "colab": {
          "base_uri": "https://localhost:8080/"
        },
        "id": "TS3_Tg9rrSNY",
        "outputId": "3f6f75f4-a89b-4790-d2ac-49ebf3ce1c92"
      },
      "source": [
        "print(Spec_reflect(np.array([1,1,-1]),np.array([0,0,-2])))\n",
        "print(Diff_reflect(np.array([0,0,1]),np.array([0,0,1])))"
      ],
      "execution_count": null,
      "outputs": [
        {
          "output_type": "stream",
          "text": [
            "[1 1 7]\n",
            "[0.32478517 0.34316561 0.88133532]\n"
          ],
          "name": "stdout"
        }
      ]
    },
    {
      "cell_type": "markdown",
      "metadata": {
        "id": "7k3DMuLz7PNt"
      },
      "source": [
        "Function for computing the ACF of a vector quantity"
      ]
    },
    {
      "cell_type": "code",
      "metadata": {
        "id": "GBM5b8uV7fQd"
      },
      "source": [
        "def ACF(t_max, J):\n",
        "    # Compute the autocorrelation of the instantaniouse flux vector\n",
        "    nd = J.shape\n",
        "    time_intervals = nd[1]\n",
        "    c = np.zeros([3,time_intervals*2])\n",
        "    zpad = np.zeros(time_intervals)\n",
        "    sf = t_max/float(time_intervals)\n",
        "    for j in range(3):\n",
        "        dft  = np.fft.fft(np.concatenate((J[j],zpad)))\n",
        "        c[j] = np.fft.ifft(dft*np.conjugate(dft))*sf\n",
        "    return c[:,:time_intervals]"
      ],
      "execution_count": null,
      "outputs": []
    },
    {
      "cell_type": "markdown",
      "metadata": {
        "id": "2tTKmdy3sb2R"
      },
      "source": [
        "Define a function that simulates a large number of rays and collects the ray impact data."
      ]
    },
    {
      "cell_type": "markdown",
      "metadata": {
        "id": "6ZMbcrsYUl7I"
      },
      "source": [
        "# Plotting functions\n",
        "\n",
        "> Indented block\n",
        "\n",
        "> Indented block\n",
        "\n",
        "\n",
        "\n"
      ]
    },
    {
      "cell_type": "markdown",
      "metadata": {
        "id": "TMWSk0TO1056"
      },
      "source": [
        "Set plot formatting style and define some plotting functions"
      ]
    },
    {
      "cell_type": "code",
      "metadata": {
        "id": "r5DcPpGl1yRe"
      },
      "source": [
        "# Define plotting functions\n",
        "\n",
        "plt.rc(\"font\", size = 18, family = 'sans-serif')\n",
        "plt.rcParams[\"figure.figsize\"] = (6, 5)\n",
        "plt.rcParams['animation.html'] = 'html5'\n",
        "\n",
        "def quickplot(x,y,xlab,ylab,plotstyle):\n",
        "    \"\"\"\n",
        "       Display a formatted plot of a single set of data\n",
        "\n",
        "       input: x = x values\n",
        "              y = y values\n",
        "              e = uncertainty values\n",
        "    \"\"\"\n",
        "    fig = plt.figure()\n",
        "    ax = fig.add_subplot(111)\n",
        "    ax.plot(x,y,plotstyle)\n",
        "    ax.set(xlabel=xlab, ylabel=ylab)\n",
        "    plt.show()\n",
        "\n",
        "def quickploterr(x,y,e,col='',xlab=\"x\",ylab=\"y\",plotlab=\"\"):\n",
        "    \"\"\"\n",
        "       Display a formatted error bar plot of a single set of data\n",
        "\n",
        "       input: x = x values\n",
        "              y = y values\n",
        "              e = uncertainty values\n",
        "    \"\"\"\n",
        "    fig = plt.figure()\n",
        "    ax = fig.add_subplot(111)\n",
        "    ax.plot(x,y,'-'+col)\n",
        "    ax.fill_between(x,y-e,y+e,alpha=0.2)\n",
        "    ax.set(title=plotlab,xlabel=xlab, ylabel=ylab)\n",
        "    #plt.savefig('test.pdf')\n",
        "    plt.show()\n",
        "\n",
        "def quickmultiplot(data,xlab=\"x\",ylab=\"y\",plotlab=\"\"):\n",
        "    \"\"\"\n",
        "       Display a formatted plot of multiple sets of data\n",
        "\n",
        "       input: data = List of data sets for plotting with each data set composed\n",
        "                     of 2 equal length vectors containing the x and y data\n",
        "    \"\"\"\n",
        "    fig = plt.figure()\n",
        "    ax = fig.add_subplot(111)\n",
        "    for x,y in data:\n",
        "        ax.plot(x,y,'-')\n",
        "        ax.set(title=plotlab,xlabel=xlab, ylabel=ylab)\n",
        "    plt.show()\n",
        "\n",
        "def quickmultierrplot(data,xlab=\"x\",ylab=\"y\",plotlab=\"\"):\n",
        "    \"\"\"\n",
        "       Display a formatted error bar plot of multiple sets of data\n",
        "\n",
        "       input: data = List of data sets for plotting with each data set composed\n",
        "                     of 3 equal length vectors containing the x, y and uncertainty data\n",
        "    \"\"\"\n",
        "    fig = plt.figure()\n",
        "    ax = fig.add_subplot(111)\n",
        "    for x,y,e in data:\n",
        "        ax.plot(x,y,'-')\n",
        "        ax.fill_between(x,y-e,y+e,alpha=0.2)\n",
        "        ax.set(title=plotlab,xlabel=xlab, ylabel=ylab)\n",
        "    plt.show()"
      ],
      "execution_count": null,
      "outputs": []
    }
  ]
}