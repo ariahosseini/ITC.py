{
  "nbformat": 4,
  "nbformat_minor": 0,
  "metadata": {
    "colab": {
      "name": "RayTracing.ipynb",
      "provenance": [],
      "collapsed_sections": [
        "ZMAjZcgZ6ziv",
        "zw1gV-k8641h",
        "Jv4kMtXQ2an1",
        "1aXbMMFdTaEa",
        "kjDpScFNTsd8",
        "PZg8IkcPUTSd",
        "9VccHWlyUypQ",
        "6ZMbcrsYUl7I"
      ],
      "toc_visible": true,
      "include_colab_link": true
    },
    "kernelspec": {
      "name": "python3",
      "display_name": "Python 3"
    },
    "language_info": {
      "name": "python"
    }
  },
  "cells": [
    {
      "cell_type": "markdown",
      "metadata": {
        "id": "view-in-github",
        "colab_type": "text"
      },
      "source": [
        "<a href=\"https://colab.research.google.com/github/ariahosseini/InterfacePhononsToolkit/blob/master/util/RayTracing.ipynb\" target=\"_parent\"><img src=\"https://colab.research.google.com/assets/colab-badge.svg\" alt=\"Open In Colab\"/></a>"
      ]
    },
    {
      "cell_type": "markdown",
      "metadata": {
        "id": "ZMAjZcgZ6ziv"
      },
      "source": [
        "\n",
        "Ray tracing code\n",
        "---\n",
        "A collection of functions used in the variouse photon and phonon ray tracing models\n"
      ]
    },
    {
      "cell_type": "markdown",
      "metadata": {
        "id": "zw1gV-k8641h"
      },
      "source": [
        "# Modules"
      ]
    },
    {
      "cell_type": "code",
      "metadata": {
        "id": "Ykxg9eNR66im"
      },
      "source": [
        "import matplotlib.pyplot as plt\n",
        "import numpy as np\n",
        "from scipy import integrate"
      ],
      "execution_count": 1,
      "outputs": []
    },
    {
      "cell_type": "markdown",
      "metadata": {
        "id": "Jv4kMtXQ2an1"
      },
      "source": [
        "# System parameters"
      ]
    },
    {
      "cell_type": "code",
      "metadata": {
        "id": "wAGuLCCl2ZVd"
      },
      "source": [
        "d = 1.1   # Length of the cell in x\n",
        "L = 0.5   # Length in y\n",
        "h = 2.0   # Depth of the box in z. We assume all rays start at the z = zero \n",
        "          # plane and head in the negative z direction\n",
        "RadiusAtTop = 0.25  # Radius of cylinder or cone at its top\n",
        "PitchAngle  = 2.0*np.pi/180.0   # If 0 = cylinder\n",
        "\n",
        "# vectors for cone equation\n",
        "co = np.array([0.0,0.0,0.0]) # Cone apex\n",
        "cm = np.identity(3)          # Cone matrix\n",
        "if PitchAngle == 0:\n",
        "  # Cylinder\n",
        "  r = RadiusAtTop\n",
        "  s = 0.0\n",
        "else:\n",
        "  # Cone\n",
        "  r = 0.0\n",
        "  s = -(np.tan(PitchAngle))**2\n",
        "  cone_height = RadiusAtTop/(np.tan(PitchAngle)) # Cone Height\n",
        "  co[2] = cone_height # Center \n",
        "\n",
        "cm[2,2] = s\n",
        "\n",
        "# Define the pillar parameters and walls of the cell\n",
        "\n",
        "pillar = [co,cm]\n",
        "walls  = [[[ 1, 0, 0],[ d, 0, 0]],\n",
        "         [[ 0, 1, 0],[ 0, L, 0]],\n",
        "         [[-1, 0, 0],[-d, 0, 0]],\n",
        "         [[ 0,-1, 0],[ 0,-L, 0]],\n",
        "         [[ 0, 0,-1],[ 0, 0,-h]],\n",
        "         [[ 0, 0, 1],[ 0, 0, 0]]]\n",
        "walls = np.array(walls)\n"
      ],
      "execution_count": 2,
      "outputs": []
    },
    {
      "cell_type": "markdown",
      "metadata": {
        "id": "FcniT6vPBMV2"
      },
      "source": [
        "Define the propabilities of each outcome when a ray hits a wall. There are three properties assosiated with a wall: \n",
        "\n",
        "\n",
        "*   The probability of transmission \n",
        "    p_abs   = 0.8  # Probability that a ray is absorbed by a wall if it is not transmitted\n",
        "*   The Specularity: the probability that if the ray is reflected it does so speculalrly"
      ]
    },
    {
      "cell_type": "code",
      "metadata": {
        "id": "mAc_VhFHBLkg",
        "colab": {
          "base_uri": "https://localhost:8080/"
        },
        "outputId": "93c03efa-9f53-4946-8037-74193714a714"
      },
      "source": [
        "def GetCumProbs(p_tran,spec,p_abs):\n",
        "    \"\"\"\n",
        "    Compute the list of cumulative probabilities from the tree wall properties\n",
        "\n",
        "    Input\n",
        "      p_tran  : Probability of transmission \n",
        "      spec    : Specularity: the probability that if the ray is reflected it does so speculalrly\n",
        "      p_abs   : Probability that a ray is absorbed by a wall if it is not transmitted\n",
        "\n",
        "    Output\n",
        "      cp_list : Cumulative probability list for transmission, absorbtion, specular \n",
        "                reflection and diffuse reflection \n",
        "    \"\"\"\n",
        "    p_absa  = (1.0-p_tran)*p_abs           # Absolute probability of absorbtion \n",
        "    p_rspec = (1.0-p_tran-p_absa)*(1-spec) # Absolute probability of specular reflection \n",
        "    p_rdiff = (1.0-p_tran-p_absa)*spec     # Absolute probability of diffuse reflection \n",
        "\n",
        "    p_list  = np.array([p_tran,p_absa,p_rspec,p_rdiff]) \n",
        "    cp_list = np.add.accumulate([p_tran,p_absa,p_rspec,p_rdiff]) \n",
        "    #print(p_list)\n",
        "    #print(cp_list)\n",
        "    return cp_list\n",
        "\n",
        "wall_transmission_prob_list = [1.0, 1.0, 1.0, 1.0, 0.0, 0.0, 0.0]    \n",
        "wall_absorbtion_prob_list   = [0.0, 0.0, 0.0, 0.0, 0.8, 0.8, 1.0]    \n",
        "wall_specularity__list      = [0.0, 0.0, 0.0, 0.0, 0.1, 0.1, 1.0]    \n",
        "\n",
        "cumulative_probabilities = []\n",
        "\n",
        "for i in range(len(wall_specularity__list)):\n",
        "    p_tran = wall_transmission_prob_list[i]\n",
        "    spec   = wall_absorbtion_prob_list[i]\n",
        "    p_abs  = wall_specularity__list[i]\n",
        "    cumulative_probabilities.append(GetCumProbs(p_tran,spec,p_abs))\n",
        "\n",
        "cumulative_probabilities = np.array(cumulative_probabilities)\n",
        "print(cumulative_probabilities)"
      ],
      "execution_count": 3,
      "outputs": [
        {
          "output_type": "stream",
          "text": [
            "[[1.   1.   1.   1.  ]\n",
            " [1.   1.   1.   1.  ]\n",
            " [1.   1.   1.   1.  ]\n",
            " [1.   1.   1.   1.  ]\n",
            " [0.   0.1  0.28 1.  ]\n",
            " [0.   0.1  0.28 1.  ]\n",
            " [0.   1.   1.   1.  ]]\n"
          ],
          "name": "stdout"
        }
      ]
    },
    {
      "cell_type": "markdown",
      "metadata": {
        "id": "1aXbMMFdTaEa"
      },
      "source": [
        "# Auxilliary functions"
      ]
    },
    {
      "cell_type": "markdown",
      "metadata": {
        "id": "Dx6iaol5rXl8"
      },
      "source": [
        "Define a function to pick a random direction"
      ]
    },
    {
      "cell_type": "code",
      "metadata": {
        "id": "G83IAw4Mt2-W"
      },
      "source": [
        "def RandomDirection():\n",
        "    \"\"\"\n",
        "       Generate a randomly oriented unit vector drawn from a uniform \n",
        "       distribution of the unit sphere\n",
        "       \n",
        "       input: \n",
        "       out:   random vector (numpy array)\n",
        "    \"\"\"      \n",
        "    theta = np.arccos(1 - (2*np.random.uniform(0, 1)))   \n",
        "    phi = np.random.uniform(-np.pi, np.pi)\n",
        "    return np.array([np.sin(theta)*np.cos(phi),\n",
        "                     np.sin(theta)*np.sin(phi),\n",
        "                     np.cos(theta)])\n",
        "\n",
        "def RandomDirectionInHalfSpace(nvec):\n",
        "    \"\"\"\n",
        "       Generate a randomly oriented unit vector in the halfspace perpendicular \n",
        "       to the vector nv. This function is used to generate new diffusely \n",
        "       scattered ray directions from sccattering from a surface with normal \n",
        "       veror nvec\n",
        "\n",
        "       input:\n",
        "              nvec : unit vector (numpy array)\n",
        "       out:   \n",
        "              rdir : random vector (numpy array)\n",
        "    \"\"\"      \n",
        "    theta = np.arccos(1 - (2*np.random.uniform(0, 1)))   \n",
        "    phi = np.random.uniform(-np.pi, np.pi)\n",
        "    rdir = np.array([np.sin(theta)*np.cos(phi),\n",
        "                     np.sin(theta)*np.sin(phi),\n",
        "                     np.cos(theta)])\n",
        "    # Reflect the component of the random vector that is pointing out of the \n",
        "    # halfspace\n",
        "    normalcomp = np.dot(rdir,nvec)\n",
        "    rdir += (np.abs(normalcomp)-normalcomp)*nvec  \n",
        "    return rdir\n"
      ],
      "execution_count": 4,
      "outputs": []
    },
    {
      "cell_type": "markdown",
      "metadata": {
        "id": "kjDpScFNTsd8"
      },
      "source": [
        "# Functions for finding wall intercepts"
      ]
    },
    {
      "cell_type": "markdown",
      "metadata": {
        "id": "WPrgR0vsrvpd"
      },
      "source": [
        "Define a finction to determine the distances to the walls of a cell "
      ]
    },
    {
      "cell_type": "code",
      "metadata": {
        "id": "qj2FhgDot3Sr"
      },
      "source": [
        "WallDistance = lambda p, nv, wp, wn : np.dot(wp-p,wn)/np.dot(nv,wn)\n",
        "SmallestPositiveValue = lambda l : min([i for i in l if i > 0])\n",
        "IndexOfSmallestPositiveValue = lambda l : l.index(min([i for i in l if i > 0]))"
      ],
      "execution_count": 5,
      "outputs": []
    },
    {
      "cell_type": "markdown",
      "metadata": {
        "id": "YCjNsjkwrd5L"
      },
      "source": [
        "Define a function to determine if a ray hits a pillar, and if the distance it has to travel to do so."
      ]
    },
    {
      "cell_type": "code",
      "metadata": {
        "id": "bbKGgp7y6wzC"
      },
      "source": [
        "WallDistance = lambda p, nv, wp, wn : np.dot(wp-p,wn)/np.dot(nv,wn)\n",
        "SmallestPositiveValue = lambda l : min([i for i in l if i > 0])\n",
        "IndexOfSmallestPositiveValue = lambda l : l.index(min([i for i in l if i > 0]))\n",
        "\n",
        "def DistanceToPillar(q,direct,pillar):\n",
        "    \"\"\"\n",
        "       Follow a ray in a cell starting from point p traveling in direction nv \n",
        "       untill it eaither exits the cell or hits an object (the pillar) within \n",
        "       the cell.\n",
        "        \n",
        "       input:\n",
        "              q         : ray starting position\n",
        "              direct    : ray direction \n",
        "              pillar    : parameters needed to describe the pillar\n",
        "       out:   \n",
        "              distance  : Shortest positive distance slong ray to the pillar, \n",
        "                          or -1 if the distance is negative, or the ray misses \n",
        "                          the pillar\n",
        "    \"\"\"     \n",
        "\n",
        "    unit = direct/np.linalg.norm(direct)\n",
        "    [c,M] = pillar\n",
        "    #c = pillar[0]\n",
        "    #M = pillar[1]\n",
        "    \n",
        "    Chi_prime = q - c # vector to the pillar from the ray start point\n",
        "\n",
        "    # Terms in the quadratic equation\n",
        "    A = np.matmul(unit,np.matmul(M,unit))\n",
        "    B = np.matmul(Chi_prime,np.matmul(M,unit))+np.matmul(unit,np.matmul(M,Chi_prime))\n",
        "    C = np.matmul(Chi_prime,np.matmul(M,Chi_prime)) - r**2\n",
        "\n",
        "    # Test if ray hits pillar\n",
        "    Delta = B**2 - 4*A*C\n",
        "    if Delta < 0:\n",
        "        return -1.0 # Ray misses the pillar\n",
        "    else:\n",
        "        distance = [(-B + np.sqrt(Delta))/(2*A),\n",
        "                    (-B - np.sqrt(Delta))/(2*A)]\n",
        "        if max(distance) < 0: \n",
        "            return -1.0 # Ray has allready passed the pillar\n",
        "        else:\n",
        "            return SmallestPositiveValue(distance) # Hits the pillar"
      ],
      "execution_count": 6,
      "outputs": []
    },
    {
      "cell_type": "markdown",
      "metadata": {
        "id": "PZg8IkcPUTSd"
      },
      "source": [
        "# Function to trace ray in a single cell "
      ]
    },
    {
      "cell_type": "markdown",
      "metadata": {
        "id": "oNd-QyfNr5ms"
      },
      "source": [
        "Define a function that folows the flight of a ray in a cell untill it hits the walls or it hits the pillar"
      ]
    },
    {
      "cell_type": "code",
      "metadata": {
        "id": "8CmQOuOj8GkN",
        "colab": {
          "base_uri": "https://localhost:8080/"
        },
        "outputId": "193c1567-56bf-4ca2-f16d-6ceaac4ab5a2"
      },
      "source": [
        "def PathInCell(p,nv,walls,pillar):\n",
        "    \"\"\"\n",
        "       Follow a ray in a cell starting from point p traveling in direction nv \n",
        "       untill it eaither exits the cell or hits an object (the pillar) within \n",
        "       the cell.\n",
        "        \n",
        "       input:\n",
        "              p         : starting position\n",
        "              nv        : ray direction\n",
        "              walls     : list of pairs of normal vector and reference positions \n",
        "                          used to define each of the walls that bound the cell \n",
        "              pillar    : parameters needed to describe the pillar\n",
        "       out:   \n",
        "              pn        : New position after flighht in cell\n",
        "              wallindex : random vector (numpy array)\n",
        "    \"\"\"      \n",
        "\n",
        "    # Find the distance along the ray to all the walls\n",
        "    hit_dist = [WallDistance(p,nv,wp,wn) for wn,wp in walls]\n",
        "    \n",
        "    # Determine if the ray hits the pillar and append the distance to the \n",
        "    # pillar to the list of wall distances\n",
        "    hit_dist.append(DistanceToPillar(p,nv,pillar)) \n",
        "    print(hit_dist)\n",
        "    \n",
        "    # Find the shortest positive distance to hit something -- \n",
        "    # and then retrun the index of the wall this corresponds to.\n",
        "    wallindex = IndexOfSmallestPositiveValue(hit_dist)\n",
        "    print(\"Ray hits Wall \",wallindex)\n",
        "    \n",
        "    # Determine the position that that the ray strikes the wall\n",
        "    pn = p + hit_dist[wallindex]*nv\n",
        "    \n",
        "    return pn, wallindex\n",
        "\n",
        "# Test \n",
        "\n",
        "\n",
        "#p  = RandomPositionInBox()\n",
        "p = np.array([d,L,0])*0.5 # For debugging\n",
        "nv = RandomDirectionInHalfSpace(np.array([0,0,-1]))\n",
        "print(p)\n",
        "print(nv)\n",
        "print(PathInCell(p,nv,walls,pillar))\n"
      ],
      "execution_count": 7,
      "outputs": [
        {
          "output_type": "stream",
          "text": [
            "[0.55 0.25 0.  ]\n",
            "[-0.39226083  0.52951161 -0.75216281]\n",
            "[-1.4021282657045007, 0.47213317880556244, 4.206384797113501, -1.4163995364166873, 2.658998785307807, -0.0, -1.0]\n",
            "Ray hits Wall  1\n",
            "(array([ 0.36480065,  0.5       , -0.35512102]), 1)\n"
          ],
          "name": "stdout"
        }
      ]
    },
    {
      "cell_type": "markdown",
      "metadata": {
        "id": "9VccHWlyUypQ"
      },
      "source": [
        "# Function to trace full ray trajectory"
      ]
    },
    {
      "cell_type": "markdown",
      "metadata": {
        "id": "YI5iCnX1sC3c"
      },
      "source": [
        "Define a function that traces the trajectory of a ray through multiple cells and scattering events untill it is absorbed or lost through the top of the box.\n",
        "Each time a ray hits a wall it can do one of four things:\n",
        "\n",
        "1.   Stop (be adsorbed, or lost)\n",
        "2.   Pass through unhindered\n",
        "3.   Scatter diffusely\n",
        "4.   Scatter speculalrly\n",
        "\n",
        "There is s probability for each\n"
      ]
    },
    {
      "cell_type": "code",
      "metadata": {
        "colab": {
          "base_uri": "https://localhost:8080/"
        },
        "id": "kgy20OPc41Ln",
        "outputId": "062b66ab-3755-4159-afd5-77ff2169b196"
      },
      "source": [
        "def Transmit(nv):\n",
        "    \"\"\"\n",
        "       Return the new direction and position of the ray after it is transmitted \n",
        "       point that is transmitted\n",
        "    \"\"\"\n",
        "    return nv\n",
        "\n",
        "def Adsorb(nv):\n",
        "    \"\"\"\n",
        "       Return the new direction and position of the ray after it is transmitted \n",
        "       point that is transmitted\n",
        "    \"\"\"\n",
        "    return nv\n",
        "\n",
        "def Spec_reflect(nv,wallnormal):\n",
        "    \"\"\"\n",
        "       Return the new direction and position of the ray after it is transmitted \n",
        "       point that is transmitted\n",
        "    \"\"\"\n",
        "    nnv = nv - 2*np.dot(wallnormal,nv)*wallnormal\n",
        "    return nnv\n",
        "\n",
        "def Diff_reflect(nv,wallnormal):\n",
        "    \"\"\"\n",
        "       Return the new direction and position of the ray after it is transmitted \n",
        "       point that is transmitted\n",
        "    \"\"\"\n",
        "    nnv = RandomDirectionInHalfSpace(wallnormal)\n",
        "    return nnv\n",
        "\n",
        "def WallEvent(p,nv,wallnormal,cumulative_probabilities):\n",
        "    \"\"\"\n",
        "       Decide what happens at a wall: The ray can either be:\n",
        "        * Transmitted with its direction unchanged, but the ray point shifted\n",
        "        * Adsorbed with the ray tracing stopped\n",
        "        * Scattered specularly \n",
        "        * Scattered diffusely \n",
        "        Follow a ray through a sequesnce of cells and scattering events starting \n",
        "       from point p traveling in direction nv untill some stopping condition is \n",
        "       reached. Return the list of cell locations at which the ray changed \n",
        "       direction, and their corresponding wall index.\n",
        "        \n",
        "       input:\n",
        "              po        : ray starting position\n",
        "              nvo       : ray direction\n",
        "              walls     : list of pairs of normal vector and reference positions \n",
        "                          used to define each of the walls that bound the cell \n",
        "              pillar    : parameters needed to describe the pillar\n",
        "       out:   \n",
        "              plist     : List of positions where scattering occured\n",
        "              wallindex : coreesponding wallindex for these events\n",
        "    \"\"\"\n",
        "\n",
        "    dice = np.random.rand()\n",
        "    #print(dice)\n",
        "    event = 0\n",
        "    while dice > cumulative_probabilities[event]:\n",
        "      event += 1\n",
        "    print(event)\n",
        "\n",
        "    # Switch between cases:\n",
        "    switcher = {\n",
        "        0: Transmit(nv),                    # Event 0: transmission\n",
        "        1: Adsorb(nv),                      # Event 1: absorbtion \n",
        "        2: Spec_reflect(nv,wallnormal),     # Event 2: specular reflection\n",
        "        3: Diff_reflect(nv,wallnormal),     # Event 3: diffuse reflection\n",
        "    }\n",
        "    nnv = switcher.get(event, \"nothing\")\n",
        "    \n",
        "    return event, nnv\n",
        "\n",
        "print(p)\n",
        "print(nv)\n",
        "#print(walls)\n",
        "wallindex = 4\n",
        "wallnormal = walls[wallindex][0]\n",
        "probabilities = cumulative_probabilities[wallindex]\n",
        "\n",
        "WallEvent(p,nv,wallnormal,probabilities)"
      ],
      "execution_count": 8,
      "outputs": [
        {
          "output_type": "stream",
          "text": [
            "[0.55 0.25 0.  ]\n",
            "[-0.39226083  0.52951161 -0.75216281]\n",
            "3\n"
          ],
          "name": "stdout"
        },
        {
          "output_type": "execute_result",
          "data": {
            "text/plain": [
              "(3, array([ 0.40224917, -0.8335701 , -0.37862448]))"
            ]
          },
          "metadata": {
            "tags": []
          },
          "execution_count": 8
        }
      ]
    },
    {
      "cell_type": "code",
      "metadata": {
        "id": "E4NExs-sx8b5",
        "colab": {
          "base_uri": "https://localhost:8080/",
          "height": 134
        },
        "outputId": "64780bf1-0fcd-4b51-cf81-1b72fa8d9608"
      },
      "source": [
        "\n",
        "\n",
        "def RayTrace(po,nvo,walls,pillar):\n",
        "    \"\"\"\n",
        "       Follow a ray through a sequesnce of cells and scattering events starting \n",
        "       from point p traveling in direction nv untill some stopping condition is \n",
        "       reached. Return the list of cell locations at which the ray changed \n",
        "       direction, and their corresponding wall index.\n",
        "        \n",
        "       input:\n",
        "              po        : ray starting position\n",
        "              nvo       : ray direction\n",
        "              walls     : list of pairs of normal vector and reference positions \n",
        "                          used to define each of the walls that bound the cell \n",
        "              pillar    : parameters needed to describe the pillar\n",
        "       out:   \n",
        "              plist     : List of positions where scattering occured\n",
        "              wallindex : coreesponding wallindex for these events\n",
        "    \"\"\"\n",
        "    p,nv1 = po,nvo # p is the initial starting point in the cell refference frame\n",
        "    \n",
        "    nwalls = walls.shape(walls)[0] # number of walls\n",
        "    max_cells = 10                 # Max number of itterations\n",
        "    step = 0\n",
        "    distance = 0\n",
        "    crow_vector = np.zeros(3)      # vector from starting point to current point \n",
        "                                   # as the crow flies\n",
        "\n",
        "    # Initialize path and event recording\n",
        "    path   = [p]\n",
        "    events = [[5,6]] # Event 5 (birth) at wall 6 (the top) Only record events \n",
        "                     # where the ray changes direction.\n",
        "    \n",
        "    while step < max_cells:\n",
        "        step += 1\n",
        "        # Flight leg\n",
        "        pn,wallindex = PathInCell(p,nv,walls,pillar) \n",
        "        crow_vector += pn-p\n",
        "              \n",
        "        # Scatter\n",
        "        # If the ray hits the pillar we need to compute the normal vector at the \n",
        "        # point on the surface of the pillar where the ray hit\n",
        "        if wallindex < nwalls: \n",
        "            wallnormal = PillarNormalAtPoint(np)\n",
        "            cellshift  = np.zeros(3)\n",
        "        else: \n",
        "            wallnormal = walls[wallindex,0] \n",
        "            cellshift  = -2*walls[wallindex,1]\n",
        "\n",
        "        probabilities = cumulative_probabilities[wallindex] \n",
        "        scatterindex,nnv = WallEvent(p,nv,wallnormal,probabilities)\n",
        "        \n",
        "        # Set up new flight leg\n",
        "        \n",
        "        if scatterindex == 0:\n",
        "            # If wallindex is for an external wall and the scatterindex is for \n",
        "            # transmit then the ray goes into the next cell over. In which case \n",
        "            # shift p for this cell, and then go onto the next leg\n",
        "            p = np + cellshift\n",
        "        else:\n",
        "            # If wall index is for scattering then we continue in the current cell \n",
        "            # picking up a new leg starting from np and heading in the new direvtion \n",
        "            # nnv. In this case record the event, opdate nv and go onto the new leg.         \n",
        "            p = np\n",
        "            nv = nnv\n",
        "            events.append([scatterindex,wallindex])\n",
        "            path.append(p+crow_vector)\n",
        "            if scatterindex==1:  \n",
        "                # If scatterindex is for adsorb record the event and then stop.\n",
        "            return path,events\n",
        "              \n",
        "    return path,events\n",
        "\n",
        "\n",
        "# Test it\n",
        "po = np.array([0.5,0.25,0.0])\n",
        "nvo = np.array([0.0,0.0,-1.0])\n",
        "path,events = RayTrace(po,nvo,walls,pillar)\n",
        "print(path)\n",
        "print(events)"
      ],
      "execution_count": 9,
      "outputs": [
        {
          "output_type": "error",
          "ename": "IndentationError",
          "evalue": "ignored",
          "traceback": [
            "\u001b[0;36m  File \u001b[0;32m\"<ipython-input-9-aea7dddfd014>\"\u001b[0;36m, line \u001b[0;32m70\u001b[0m\n\u001b[0;31m    return path,events\u001b[0m\n\u001b[0m         ^\u001b[0m\n\u001b[0;31mIndentationError\u001b[0m\u001b[0;31m:\u001b[0m expected an indented block\n"
          ]
        }
      ]
    },
    {
      "cell_type": "markdown",
      "metadata": {
        "id": "7k3DMuLz7PNt"
      },
      "source": [
        "Function for computing the ACF of a vector quantity "
      ]
    },
    {
      "cell_type": "code",
      "metadata": {
        "id": "GBM5b8uV7fQd"
      },
      "source": [
        "def ACF(t_max, J):\n",
        "    # Compute the autocorrelation of the instantaniouse flux vector \n",
        "    nd = J.shape\n",
        "    time_intervals = nd[1]\n",
        "    c = np.zeros([3,time_intervals*2])\n",
        "    zpad = np.zeros(time_intervals)\n",
        "    sf = t_max/float(time_intervals)\n",
        "    for j in range(3):\n",
        "        dft  = np.fft.fft(np.concatenate((J[j],zpad)))\n",
        "        c[j] = np.fft.ifft(dft*np.conjugate(dft))*sf\n",
        "    return c[:,:time_intervals]"
      ],
      "execution_count": 10,
      "outputs": []
    },
    {
      "cell_type": "markdown",
      "metadata": {
        "id": "2tTKmdy3sb2R"
      },
      "source": [
        "Define a function that simulates a large number of rays and collects the ray impact data."
      ]
    },
    {
      "cell_type": "markdown",
      "metadata": {
        "id": "6ZMbcrsYUl7I"
      },
      "source": [
        "# Plotting functions\n",
        "\n",
        "> Indented block\n",
        "\n",
        "> Indented block\n",
        "\n",
        "\n",
        "\n"
      ]
    },
    {
      "cell_type": "markdown",
      "metadata": {
        "id": "TMWSk0TO1056"
      },
      "source": [
        "Set plot formatting style and define some plotting functions"
      ]
    },
    {
      "cell_type": "code",
      "metadata": {
        "id": "r5DcPpGl1yRe"
      },
      "source": [
        "# Define plotting functions\n",
        "\n",
        "plt.rc(\"font\", size = 18, family = 'sans-serif')\n",
        "plt.rcParams[\"figure.figsize\"] = (6, 5)\n",
        "plt.rcParams['animation.html'] = 'html5'\n",
        "\n",
        "def quickplot(x,y,xlab=\"x\",ylab=\"y\",plotlab=\"\"):\n",
        "    \"\"\"\n",
        "       Display a formatted plot of a single set of data\n",
        "       \n",
        "       input: x = x values\n",
        "              y = y values\n",
        "              e = uncertainty values\n",
        "    \"\"\"\n",
        "    fig = plt.figure()\n",
        "    ax = fig.add_subplot(111)\n",
        "    ax.plot(x,y,'-')\n",
        "    ax.set(title=plotlab,xlabel=xlab, ylabel=ylab)\n",
        "    plt.show()\n",
        "  \n",
        "def quickploterr(x,y,e,col='',xlab=\"x\",ylab=\"y\",plotlab=\"\"):\n",
        "    \"\"\"\n",
        "       Display a formatted error bar plot of a single set of data\n",
        "       \n",
        "       input: x = x values\n",
        "              y = y values\n",
        "              e = uncertainty values\n",
        "    \"\"\"\n",
        "    fig = plt.figure()\n",
        "    ax = fig.add_subplot(111)\n",
        "    ax.plot(x,y,'-'+col)\n",
        "    ax.fill_between(x,y-e,y+e,alpha=0.2)\n",
        "    ax.set(title=plotlab,xlabel=xlab, ylabel=ylab)\n",
        "    #plt.savefig('test.pdf')  \n",
        "    plt.show()\n",
        "\n",
        "def quickmultiplot(data,xlab=\"x\",ylab=\"y\",plotlab=\"\"):\n",
        "    \"\"\"\n",
        "       Display a formatted plot of multiple sets of data\n",
        "       \n",
        "       input: data = List of data sets for plotting with each data set composed \n",
        "                     of 2 equal length vectors containing the x and y data \n",
        "    \"\"\"\n",
        "    fig = plt.figure()\n",
        "    ax = fig.add_subplot(111)\n",
        "    for x,y in data:\n",
        "        ax.plot(x,y,'-')\n",
        "        ax.set(title=plotlab,xlabel=xlab, ylabel=ylab)\n",
        "    plt.show()\n",
        "        \n",
        "def quickmultierrplot(data,xlab=\"x\",ylab=\"y\",plotlab=\"\"):\n",
        "    \"\"\"\n",
        "       Display a formatted error bar plot of multiple sets of data\n",
        "       \n",
        "       input: data = List of data sets for plotting with each data set composed \n",
        "                     of 3 equal length vectors containing the x, y and uncertainty data \n",
        "    \"\"\"\n",
        "    fig = plt.figure()\n",
        "    ax = fig.add_subplot(111)\n",
        "    for x,y,e in data:\n",
        "        ax.plot(x,y,'-')\n",
        "        ax.fill_between(x,y-e,y+e,alpha=0.2)\n",
        "        ax.set(title=plotlab,xlabel=xlab, ylabel=ylab)\n",
        "    plt.show()"
      ],
      "execution_count": 12,
      "outputs": []
    }
  ]
}